{
 "cells": [
  {
   "cell_type": "markdown",
   "id": "3ea4d946-2ae9-438d-bd82-4f7584b3ddae",
   "metadata": {},
   "source": [
    "# Data Cleaning"
   ]
  },
  {
   "cell_type": "markdown",
   "id": "74da86a6-b635-4838-9b6c-ccb7dafd8599",
   "metadata": {},
   "source": [
    "## The Importance of Cleaning YouTube Video Data\n",
    "\n",
    "When working with YouTube video data, proper cleaning is essential because:\n",
    "\n",
    " **Raw data contains inconsistencies**:\n",
    "   - Video titles may include special characters or emojis\n",
    "   - Descriptions often have promotional links or boilerplate text\n",
    "   - Metadata fields (like view counts or durations) might be formatted inconsistently\n",
    "\n",
    " **Missing or incomplete information**:\n",
    "   - Some videos may lack thumbnails or proper category tags\n",
    "   - Engagement metrics (likes/dislikes) could be unavailable for certain videos\n",
    "\n",
    " **Impact on analysis**:\n",
    "   - Unclean data can distort viewership trends and performance comparisons\n",
    "   - Machine learning models trained on raw data may produce unreliable predictions\n",
    "   - Business decisions based on uncleaned data could be misguided\n",
    "\n",
    "By systematically, standardizing text formats, handling missing values appropriately, removing duplicate entries and validating numerical metrics we can ensure the data accurately represents channel performance and viewer behavior. This cleaning process forms the foundation for all subsequent analysis, from basic reporting to advanced predictive modeling."
   ]
  },
  {
   "cell_type": "markdown",
   "id": "5891c61a-0a2d-4c5c-93b0-3ff29ec0df87",
   "metadata": {},
   "source": [
    "---\n",
    "## Imports"
   ]
  },
  {
   "cell_type": "markdown",
   "id": "d7a03d8b-4d38-4e92-a771-78725c0350c5",
   "metadata": {},
   "source": [
    "### Core Data Handling\n",
    "\n",
    "**pandas**: The primary library for working with structured data. It enables creating organized tables (DataFrames) from YouTube API responses, filtering specific videos based on criteria, and handling missing or incomplete video information efficiently.\n",
    "\n",
    "**numpy**: Provides fundamental numerical computing capabilities. It powers the mathematical operations needed to calculate video statistics, analyze trends in view counts, and process arrays of numerical data like engagement metrics.\n",
    "\n",
    "### YouTube-Specific Processing\n",
    "\n",
    "**isodate**: Specialized library for working with YouTube's duration format. It converts the platform's unique time format (like PT15M33S for 15 minutes, 33 seconds) into standard Python time objects, enabling analysis of video length patterns.\n",
    "\n",
    "**ast**: Safely converts string representations of Python objects into actual usable objects. This is particularly useful when YouTube API returns complex data structures (like tags or metadata) as text strings that need to be transformed into workable formats.\n",
    "\n",
    "### Text Analysis\n",
    "\n",
    "**TextBlob**: Natural language processing toolkit that enables understanding of video titles, descriptions, and comments. It provides sentiment analysis to gauge emotional tone, identifies key phrases, and performs grammatical analysis - crucial for understanding viewer engagement and content themes."
   ]
  },
  {
   "cell_type": "raw",
   "id": "fd71e039-63c7-4151-ac96-b507b241c3fd",
   "metadata": {},
   "source": [
    "!pip install TextBlob"
   ]
  },
  {
   "cell_type": "code",
   "execution_count": 2,
   "id": "eabad2b8-c6fb-4b28-a136-6acf2763acfb",
   "metadata": {},
   "outputs": [],
   "source": [
    "import pandas as pd\n",
    "import numpy as np\n",
    "import isodate\n",
    "import ast\n",
    "from isodate import parse_duration\n",
    "from textblob import TextBlob"
   ]
  },
  {
   "cell_type": "markdown",
   "id": "516c379a-1d93-4b40-89e5-ba3159050102",
   "metadata": {},
   "source": [
    "These libraries work together to transform raw YouTube API data into actionable insights. The process begins with structured storage of API responses, converts specialized YouTube formats into standard Python objects, analyzes textual components, and finally enables comprehensive statistical analysis of video performance metrics."
   ]
  },
  {
   "cell_type": "markdown",
   "id": "3e100160-8996-4fc2-8636-27e0396c4c67",
   "metadata": {},
   "source": [
    "---\n",
    "## Organizing YouTube Channel Data"
   ]
  },
  {
   "cell_type": "markdown",
   "id": "b5f489e4-7008-4a75-834e-725cf0882e1f",
   "metadata": {},
   "source": [
    "###  Loading Raw Data Files\n",
    "- **Video Metadata**: \n",
    "  - Loaded from `redPillAnalytics.csv` containing core video information\n",
    "  - Stored in `video_df` DataFrame with columns like `video_id` and `channelTitle`"
   ]
  },
  {
   "cell_type": "code",
   "execution_count": 3,
   "id": "3dd98eab-d088-4cac-b8e0-5ad134049a7d",
   "metadata": {},
   "outputs": [],
   "source": [
    "video_df = pd.read_csv(\"dataFolder/raw/redPillAnalytics.csv\")"
   ]
  },
  {
   "cell_type": "markdown",
   "id": "efb0b08f-881f-4ace-88a3-b00a77ea9b6d",
   "metadata": {},
   "source": [
    "- **Comment Data Consolidation**:\n",
    "  - Split across two batches (`commentsBatchOne_df.csv` and `commentsBatchTwo_df.csv`)\n",
    "  - Initially loaded into separate DataFrames `df1` and `df2`\n",
    "  - **Combining Batches**:\n",
    "  - Uses `pd.concat()` to merge both comment files\n",
    "  - `ignore_index=True` ensures continuous row numbering\n",
    "  - Creates unified `comments_df` containing all comments"
   ]
  },
  {
   "cell_type": "code",
   "execution_count": 4,
   "id": "1cdc366c-a55c-4a9e-85e2-1011adcc1d16",
   "metadata": {},
   "outputs": [],
   "source": [
    "df1 = pd.read_csv(\"dataFolder/raw/commentsBatchOne_df.csv\")\n",
    "df2 = pd.read_csv(\"dataFolder/raw/commentsBatchTwo_df.csv\")\n",
    "comments_df = pd.concat([df1, df2], ignore_index=True)"
   ]
  },
  {
   "cell_type": "markdown",
   "id": "5528cc3a-d474-458c-bdd3-f682814d5f4d",
   "metadata": {},
   "source": [
    "###  Data Filtering and Merging\n",
    "- **Video Data Selection**:\n",
    "  - Extracts only essential columns (`video_id` and `channelTitle`)\n",
    "  - Creates lean `df_filtered` DataFrame"
   ]
  },
  {
   "cell_type": "code",
   "execution_count": 5,
   "id": "16e10876-2961-4d89-a53d-d80033951baa",
   "metadata": {},
   "outputs": [],
   "source": [
    "df_filtered = video_df[['video_id', 'channelTitle']]"
   ]
  },
  {
   "cell_type": "markdown",
   "id": "3e1106b8-7ec7-4a80-a9bb-1107aa8b5fc0",
   "metadata": {},
   "source": [
    "- **Comment Enrichment**:\n",
    "  - Merges comment data with video metadata using `video_id` as key\n",
    "  - `how='inner'` ensures only comments with matching videos are kept\n",
    "  - Final `comments_df` contains both comment text and associated channel info"
   ]
  },
  {
   "cell_type": "code",
   "execution_count": 6,
   "id": "fe096866-9512-43eb-8ce8-27a3ab1cf617",
   "metadata": {},
   "outputs": [
    {
     "data": {
      "text/html": [
       "<div>\n",
       "<style scoped>\n",
       "    .dataframe tbody tr th:only-of-type {\n",
       "        vertical-align: middle;\n",
       "    }\n",
       "\n",
       "    .dataframe tbody tr th {\n",
       "        vertical-align: top;\n",
       "    }\n",
       "\n",
       "    .dataframe thead th {\n",
       "        text-align: right;\n",
       "    }\n",
       "</style>\n",
       "<table border=\"1\" class=\"dataframe\">\n",
       "  <thead>\n",
       "    <tr style=\"text-align: right;\">\n",
       "      <th></th>\n",
       "      <th>video_id</th>\n",
       "      <th>channelTitle</th>\n",
       "      <th>comment</th>\n",
       "      <th>published_at</th>\n",
       "    </tr>\n",
       "  </thead>\n",
       "  <tbody>\n",
       "    <tr>\n",
       "      <th>0</th>\n",
       "      <td>F5eSaabAAmk</td>\n",
       "      <td>Benjamin Seda</td>\n",
       "      <td>big boobs lmao</td>\n",
       "      <td>2025-03-10T00:36:43Z</td>\n",
       "    </tr>\n",
       "    <tr>\n",
       "      <th>1</th>\n",
       "      <td>F5eSaabAAmk</td>\n",
       "      <td>Benjamin Seda</td>\n",
       "      <td>This will work for a specific type of woman, o...</td>\n",
       "      <td>2025-03-09T23:01:56Z</td>\n",
       "    </tr>\n",
       "    <tr>\n",
       "      <th>2</th>\n",
       "      <td>F5eSaabAAmk</td>\n",
       "      <td>Benjamin Seda</td>\n",
       "      <td>Can you do a video on what to do  if you  enco...</td>\n",
       "      <td>2025-03-09T07:13:54Z</td>\n",
       "    </tr>\n",
       "    <tr>\n",
       "      <th>3</th>\n",
       "      <td>F5eSaabAAmk</td>\n",
       "      <td>Benjamin Seda</td>\n",
       "      <td>God of the Dates 🤍</td>\n",
       "      <td>2025-03-08T14:57:50Z</td>\n",
       "    </tr>\n",
       "    <tr>\n",
       "      <th>4</th>\n",
       "      <td>F5eSaabAAmk</td>\n",
       "      <td>Benjamin Seda</td>\n",
       "      <td>About cold approaches, it's just not true. I d...</td>\n",
       "      <td>2025-03-07T19:06:08Z</td>\n",
       "    </tr>\n",
       "    <tr>\n",
       "      <th>...</th>\n",
       "      <td>...</td>\n",
       "      <td>...</td>\n",
       "      <td>...</td>\n",
       "      <td>...</td>\n",
       "    </tr>\n",
       "    <tr>\n",
       "      <th>668718</th>\n",
       "      <td>Jyjqw_HwXVg</td>\n",
       "      <td>The Corbett Report (Unofficial)</td>\n",
       "      <td>Make everyone you know, or are even slightly r...</td>\n",
       "      <td>2022-05-25T12:19:52Z</td>\n",
       "    </tr>\n",
       "    <tr>\n",
       "      <th>668719</th>\n",
       "      <td>Jyjqw_HwXVg</td>\n",
       "      <td>The Corbett Report (Unofficial)</td>\n",
       "      <td>The Green Scheme is Green Death!</td>\n",
       "      <td>2022-05-25T12:15:15Z</td>\n",
       "    </tr>\n",
       "    <tr>\n",
       "      <th>668720</th>\n",
       "      <td>Jyjqw_HwXVg</td>\n",
       "      <td>The Corbett Report (Unofficial)</td>\n",
       "      <td>a real timeless classic, perfect choice</td>\n",
       "      <td>2022-05-23T18:30:31Z</td>\n",
       "    </tr>\n",
       "    <tr>\n",
       "      <th>668721</th>\n",
       "      <td>Jyjqw_HwXVg</td>\n",
       "      <td>The Corbett Report (Unofficial)</td>\n",
       "      <td>This is great stuff</td>\n",
       "      <td>2022-05-23T16:13:58Z</td>\n",
       "    </tr>\n",
       "    <tr>\n",
       "      <th>668722</th>\n",
       "      <td>Jyjqw_HwXVg</td>\n",
       "      <td>The Corbett Report (Unofficial)</td>\n",
       "      <td>Did NOT expect this notification hahaha amazing</td>\n",
       "      <td>2022-05-23T15:46:22Z</td>\n",
       "    </tr>\n",
       "  </tbody>\n",
       "</table>\n",
       "<p>668723 rows × 4 columns</p>\n",
       "</div>"
      ],
      "text/plain": [
       "           video_id                     channelTitle  \\\n",
       "0       F5eSaabAAmk                    Benjamin Seda   \n",
       "1       F5eSaabAAmk                    Benjamin Seda   \n",
       "2       F5eSaabAAmk                    Benjamin Seda   \n",
       "3       F5eSaabAAmk                    Benjamin Seda   \n",
       "4       F5eSaabAAmk                    Benjamin Seda   \n",
       "...             ...                              ...   \n",
       "668718  Jyjqw_HwXVg  The Corbett Report (Unofficial)   \n",
       "668719  Jyjqw_HwXVg  The Corbett Report (Unofficial)   \n",
       "668720  Jyjqw_HwXVg  The Corbett Report (Unofficial)   \n",
       "668721  Jyjqw_HwXVg  The Corbett Report (Unofficial)   \n",
       "668722  Jyjqw_HwXVg  The Corbett Report (Unofficial)   \n",
       "\n",
       "                                                  comment  \\\n",
       "0                                          big boobs lmao   \n",
       "1       This will work for a specific type of woman, o...   \n",
       "2       Can you do a video on what to do  if you  enco...   \n",
       "3                                      God of the Dates 🤍   \n",
       "4       About cold approaches, it's just not true. I d...   \n",
       "...                                                   ...   \n",
       "668718  Make everyone you know, or are even slightly r...   \n",
       "668719                   The Green Scheme is Green Death!   \n",
       "668720            a real timeless classic, perfect choice   \n",
       "668721                                This is great stuff   \n",
       "668722    Did NOT expect this notification hahaha amazing   \n",
       "\n",
       "                published_at  \n",
       "0       2025-03-10T00:36:43Z  \n",
       "1       2025-03-09T23:01:56Z  \n",
       "2       2025-03-09T07:13:54Z  \n",
       "3       2025-03-08T14:57:50Z  \n",
       "4       2025-03-07T19:06:08Z  \n",
       "...                      ...  \n",
       "668718  2022-05-25T12:19:52Z  \n",
       "668719  2022-05-25T12:15:15Z  \n",
       "668720  2022-05-23T18:30:31Z  \n",
       "668721  2022-05-23T16:13:58Z  \n",
       "668722  2022-05-23T15:46:22Z  \n",
       "\n",
       "[668723 rows x 4 columns]"
      ]
     },
     "execution_count": 6,
     "metadata": {},
     "output_type": "execute_result"
    }
   ],
   "source": [
    "comments_df = df_filtered.merge(comments_df, on='video_id', how='inner').copy()\n",
    "comments_df"
   ]
  },
  {
   "cell_type": "markdown",
   "id": "ff1f755b-332a-4dd3-9bb0-1217c866f12f",
   "metadata": {},
   "source": [
    "> **Technical Notes**\n",
    ">\n",
    "> To ensure memory efficiency during data processing, the use of `.copy()` helps prevent the common `SettingWithCopyWarning` in pandas, making data manipulation safer and clearer. Additionally, performing an inner join automatically reduces the dataset size by including only matching records, which optimizes resource usage. The final DataFrame is structured to retain the original comment data, the corresponding video IDs, and channel titles, making it easier to group and analyze the data by channel or video for further exploration."
   ]
  },
  {
   "cell_type": "markdown",
   "id": "099d11cb-0ff7-49ee-8795-3aaf1ee04319",
   "metadata": {},
   "source": [
    "---\n",
    "## Data Quality Verification Steps"
   ]
  },
  {
   "cell_type": "markdown",
   "id": "fdb9acdb-114c-4b94-baaa-b05be62a4744",
   "metadata": {},
   "source": [
    "### For Comments Data (`comments_df`)"
   ]
  },
  {
   "cell_type": "markdown",
   "id": "d426203e-011e-4c10-9f0c-3e158a01ef21",
   "metadata": {},
   "source": [
    "**Initial Null Check**  \n",
    "- `comments_df.isnull().any()`: Identifies which columns contain missing values  \n",
    "- `comments_df.isnull().sum()`: Counts nulls per column  "
   ]
  },
  {
   "cell_type": "code",
   "execution_count": 7,
   "id": "549a721d-fdd5-42e0-b548-2089230ee129",
   "metadata": {},
   "outputs": [
    {
     "data": {
      "text/plain": [
       "video_id        False\n",
       "channelTitle    False\n",
       "comment          True\n",
       "published_at    False\n",
       "dtype: bool"
      ]
     },
     "execution_count": 7,
     "metadata": {},
     "output_type": "execute_result"
    }
   ],
   "source": [
    "comments_df.isnull().any()"
   ]
  },
  {
   "cell_type": "markdown",
   "id": "690c9f31-e792-40e7-9115-04bab008ec4e",
   "metadata": {},
   "source": [
    "**Data Type Inspection**  \n",
    "- `comments_df.dtypes`: Verifies each column's data type  "
   ]
  },
  {
   "cell_type": "code",
   "execution_count": 8,
   "id": "6b88af25-4df7-48c1-bba5-86997a41b665",
   "metadata": {},
   "outputs": [
    {
     "data": {
      "text/plain": [
       "video_id        object\n",
       "channelTitle    object\n",
       "comment         object\n",
       "published_at    object\n",
       "dtype: object"
      ]
     },
     "execution_count": 8,
     "metadata": {},
     "output_type": "execute_result"
    }
   ],
   "source": [
    "comments_df.dtypes"
   ]
  },
  {
   "cell_type": "markdown",
   "id": "5aad39f7-c52f-4b3a-91cc-e42c0ac15905",
   "metadata": {},
   "source": [
    "**Cleaning Process**  \n",
    "- `comments_df.dropna(subset=['comment'])`: Removes rows with missing comments  \n",
    "- `comments_df.isin([0, np.nan]).sum()`: Checks for zeros/NaNs across all columns  "
   ]
  },
  {
   "cell_type": "code",
   "execution_count": 9,
   "id": "6467c539-8d7b-4d1d-a394-1c50cf6fe45b",
   "metadata": {},
   "outputs": [
    {
     "data": {
      "text/plain": [
       "video_id         0\n",
       "channelTitle     0\n",
       "comment         51\n",
       "published_at     0\n",
       "dtype: int64"
      ]
     },
     "execution_count": 9,
     "metadata": {},
     "output_type": "execute_result"
    }
   ],
   "source": [
    "comments_df.isnull().sum()\n",
    "comments_df.dropna()\n",
    "comments_df.isin([0, np.nan]).sum()"
   ]
  },
  {
   "cell_type": "markdown",
   "id": "2a7ff7b6-5332-471a-acb7-42b35b0710ca",
   "metadata": {},
   "source": [
    "**Final Validation**  \n",
    "- `print(comments_df.isnull().sum())`: Confirms no nulls remain in comment text  "
   ]
  },
  {
   "cell_type": "code",
   "execution_count": 10,
   "id": "a792eb10-23cf-4bdc-a669-11b05f333e69",
   "metadata": {},
   "outputs": [
    {
     "name": "stdout",
     "output_type": "stream",
     "text": [
      "video_id        0\n",
      "channelTitle    0\n",
      "comment         0\n",
      "published_at    0\n",
      "dtype: int64\n"
     ]
    }
   ],
   "source": [
    "comments_df = comments_df.dropna(subset=['comment'])\n",
    "print(comments_df.isnull().sum())"
   ]
  },
  {
   "cell_type": "markdown",
   "id": "6242a6f6-6a6e-4ba8-9604-f4aad4c9c97e",
   "metadata": {},
   "source": [
    "---\n",
    "### For Video Data (`video_df`)  "
   ]
  },
  {
   "cell_type": "markdown",
   "id": "daf8df23-9949-4648-adfe-c8380f6cef1d",
   "metadata": {},
   "source": [
    "**Initial Assessment**  \n",
    "- `video_df.isnull().any()`: Flags columns with nulls  \n",
    "- `video_df.dtypes`: Checks column data types  "
   ]
  },
  {
   "cell_type": "code",
   "execution_count": 11,
   "id": "555c16f1-c1d6-4f93-b248-71e2c5c1facf",
   "metadata": {},
   "outputs": [
    {
     "data": {
      "text/plain": [
       "video_id          False\n",
       "channelTitle      False\n",
       "title             False\n",
       "description        True\n",
       "tags               True\n",
       "publishedAt       False\n",
       "viewCount         False\n",
       "likeCount          True\n",
       "favouriteCount     True\n",
       "commentCount       True\n",
       "duration          False\n",
       "definition        False\n",
       "caption           False\n",
       "dtype: bool"
      ]
     },
     "execution_count": 11,
     "metadata": {},
     "output_type": "execute_result"
    }
   ],
   "source": [
    "video_df.isnull().any()"
   ]
  },
  {
   "cell_type": "code",
   "execution_count": 12,
   "id": "21e2aa95-821f-4ecf-9357-322fb9c29d61",
   "metadata": {},
   "outputs": [
    {
     "data": {
      "text/plain": [
       "video_id           object\n",
       "channelTitle       object\n",
       "title              object\n",
       "description        object\n",
       "tags               object\n",
       "publishedAt        object\n",
       "viewCount           int64\n",
       "likeCount         float64\n",
       "favouriteCount    float64\n",
       "commentCount      float64\n",
       "duration           object\n",
       "definition         object\n",
       "caption              bool\n",
       "dtype: object"
      ]
     },
     "execution_count": 12,
     "metadata": {},
     "output_type": "execute_result"
    }
   ],
   "source": [
    "video_df.dtypes"
   ]
  },
  {
   "cell_type": "markdown",
   "id": "c933d226-89df-4240-ad7e-e85b5eff0016",
   "metadata": {},
   "source": [
    "**Completeness Check**  \n",
    "- `video_df.isnull().sum()`: Quantifies missing values per column  \n",
    "- `video_df.isin([0, np.nan]).sum()`: Detects zeros/NaNs\n",
    "- `video_df.dropna()`: Optional complete null removal"
   ]
  },
  {
   "cell_type": "code",
   "execution_count": 13,
   "id": "49e65113-7176-437f-b146-fc0cf899241d",
   "metadata": {},
   "outputs": [
    {
     "data": {
      "text/plain": [
       "video_id              0\n",
       "channelTitle          0\n",
       "title                 0\n",
       "description         394\n",
       "tags               6314\n",
       "publishedAt           0\n",
       "viewCount             3\n",
       "likeCount            23\n",
       "favouriteCount    13675\n",
       "commentCount        150\n",
       "duration              0\n",
       "definition            0\n",
       "caption           13246\n",
       "dtype: int64"
      ]
     },
     "execution_count": 13,
     "metadata": {},
     "output_type": "execute_result"
    }
   ],
   "source": [
    "video_df.isnull().sum()\n",
    "video_df.dropna()\n",
    "video_df.isin([0, np.nan]).sum()"
   ]
  },
  {
   "cell_type": "code",
   "execution_count": 14,
   "id": "8e026e8d-2323-458a-a297-590c57a1ee1c",
   "metadata": {},
   "outputs": [
    {
     "data": {
      "text/plain": [
       "video_id              0\n",
       "channelTitle          0\n",
       "title                 0\n",
       "description         394\n",
       "tags               6314\n",
       "publishedAt           0\n",
       "viewCount             0\n",
       "likeCount            16\n",
       "favouriteCount    13675\n",
       "commentCount          9\n",
       "duration              0\n",
       "definition            0\n",
       "caption               0\n",
       "dtype: int64"
      ]
     },
     "execution_count": 14,
     "metadata": {},
     "output_type": "execute_result"
    }
   ],
   "source": [
    "video_df.isnull().sum()"
   ]
  },
  {
   "cell_type": "markdown",
   "id": "74ae854f-d320-458a-b627-2130d6af0b91",
   "metadata": {},
   "source": [
    "This approach preserves the comment text, which is important for NLP applications, and systematically detects nulls across both datasets to maintain data quality. Type verification is performed to avoid analysis errors, and all operations are non-destructive, ensuring the original data remains intact.\n",
    "\n",
    "### Video Data (`video_df`) Status Report\n",
    "\n",
    "Before cleaning, several fields exhibited significant missing data: `favouriteCount` had 13,675 missing values, accounting for 98% of records, `tags` were absent in 6,314 cases (45%), and `caption` was missing in 13,246 records (95%). Moderate levels of nulls were found in `description` (394 missing, 3%) and `likeCount` (23 missing, 0.2%). After the initial cleaning, notable improvements included the complete resolution of nulls in `viewCount` (from 3 to 0), a substantial reduction in `commentCount` nulls (from 150 to 9), and full imputation of the `caption` field (from 13,246 to 0 nulls). However, gaps persisted in `favouriteCount`, which remains largely unavailable due to YouTube’s deprecation of the metric, and `tags`, which are still missing in 45% of videos—a common occurrence for content without tags."
   ]
  },
  {
   "cell_type": "markdown",
   "id": "06931185-79cf-45c0-9540-465af242949f",
   "metadata": {},
   "source": [
    "---\n",
    "## Cleaning Solution"
   ]
  },
  {
   "cell_type": "markdown",
   "id": "9a36fc49-6e67-4176-a871-2ed79c4bca14",
   "metadata": {},
   "source": [
    "The handling of missing values and data types was carefully implemented to support reliable downstream analysis. For the description field, any missing values were filled with empty strings, ensuring a consistent text column format and preventing errors during NLP processing, while also retaining all video records without row deletion. Tag information was parsed using a robust `safe_literal_eval` function, which safely converts stringified lists to Python lists and manages null or malformed data, returning empty lists in problematic cases; this approach preserves data structure integrity and enables accurate tag analysis and vectorisation. For count-based engagement metrics, missing values were imputed with zeros, matching YouTube’s API convention for private or removed content, which ensures that all records are preserved, maintains numerical consistency for aggregation, and provides computational efficiency."
   ]
  },
  {
   "cell_type": "code",
   "execution_count": 15,
   "id": "56a81dd5-635d-4273-a876-4d2ab2ecf10a",
   "metadata": {},
   "outputs": [
    {
     "name": "stdout",
     "output_type": "stream",
     "text": [
      "video_id          0\n",
      "channelTitle      0\n",
      "title             0\n",
      "description       0\n",
      "tags              0\n",
      "publishedAt       0\n",
      "viewCount         0\n",
      "likeCount         0\n",
      "favouriteCount    0\n",
      "commentCount      0\n",
      "duration          0\n",
      "definition        0\n",
      "caption           0\n",
      "dtype: int64\n"
     ]
    }
   ],
   "source": [
    "video_df['description'] = video_df['description'].fillna(\"\")\n",
    "def safe_literal_eval(x):\n",
    "    try:\n",
    "        return ast.literal_eval(x) if isinstance(x, str) else []\n",
    "    except (ValueError, SyntaxError):\n",
    "        return []\n",
    "\n",
    "video_df['tags'] = video_df['tags'].apply(safe_literal_eval)\n",
    "video_df['likeCount'] = video_df['likeCount'].fillna(0)\n",
    "video_df['favouriteCount'] = video_df['favouriteCount'].fillna(0)\n",
    "video_df['commentCount'] = video_df['commentCount'].fillna(0)\n",
    "print(video_df.isnull().sum())"
   ]
  },
  {
   "cell_type": "markdown",
   "id": "4535948b-47a8-4cc4-89f7-900e1511a339",
   "metadata": {},
   "source": [
    "### Project-Specific Advantages\n",
    "\n",
    "For machine learning applications, all features now have complete values with no nulls and consistent data types, allowing for proper feature extraction and ensuring that zero-filled counts do not distort statistical analysis. From a business analysis perspective, the approach maintains the full dataset size without losing records, uses empty strings and lists to clearly represent missing data, and aligns with YouTube’s platform conventions. Regarding maintenance, defensive programming strategies are used to prevent future errors, the imputation strategy is clearly documented in the code, and the handling rules can be easily modified as needed. The key strengths of this solution include systematic handling of all null cases to ensure completeness, context-aware selection of fill values for each field type, the inclusion of validation checks for verifiability, and scalability to larger datasets."
   ]
  },
  {
   "cell_type": "markdown",
   "id": "d9f5da47-9868-4332-a34c-8f79b18f85f6",
   "metadata": {},
   "source": [
    "---\n",
    "## Data Transformation & Feature Creation"
   ]
  },
  {
   "cell_type": "markdown",
   "id": "e0dbd699-a3f8-49b6-b783-4aae92986053",
   "metadata": {},
   "source": [
    "###  Data Type Standardization\n",
    "\n",
    "This processing step converts raw API responses into analysis-ready formats by enforcing proper data types across all fields. Engagement metrics such as view counts, likes, and comments are transformed from strings or objects into numeric values, while publication dates are standardized to timezone-naive datetime objects. Problematic values are automatically converted to a consistent missing data representation, which ensures accurate calculations for performance metrics, enables correct temporal comparisons across videos, and maintains data integrity in the presence of API inconsistencies."
   ]
  },
  {
   "cell_type": "code",
   "execution_count": 17,
   "id": "04656ced-9695-4c47-9e23-e4e94cdd48a6",
   "metadata": {},
   "outputs": [],
   "source": [
    "numeric_cols = ['viewCount', 'likeCount', 'favouriteCount', 'commentCount']\n",
    "video_df[numeric_cols] = video_df[numeric_cols].apply(pd.to_numeric, errors = 'coerce', axis = 1)"
   ]
  },
  {
   "cell_type": "markdown",
   "id": "02887cdc-b359-4190-b455-91259c168521",
   "metadata": {},
   "source": [
    "###  Derived Metadata and Temporal Feature Extraction\n",
    "\n",
    "This feature engineering process extracts quantifiable characteristics from video metadata to enable content-focused analysis and unlock time-based patterns in video performance through multiple temporal representations. The following features were created:\n",
    "\n",
    "- **Tag Analysis**: Count of tags per video as a measure of content tagging completeness\n",
    "- **Title Metrics**: Character length of video titles as a potential engagement factor\n",
    "- **Duration**: Video length converted to seconds for precise duration analysis\n",
    "- **Publication Day**: Categorical weekday name for weekly pattern analysis\n",
    "- **Unix Timestamp**: Continuous numeric representation for time-series modeling\n",
    "- **Seasonal Indicators**: Derived datetime components for trend analysis\n",
    "\n",
    "These engineered features reveal relationships between metadata quality and viewer engagement, identify optimal content characteristics such as title length and tagging strategy, and provide measurable inputs for recommendation algorithms. Use cases include identifying best-performing publication days and times, enabling decay rate modeling of video engagement, and supporting analysis of long-term viewership trends."
   ]
  },
  {
   "cell_type": "code",
   "execution_count": 18,
   "id": "0f4fbaa6-a31f-4d2b-b9b8-19237b3adbb3",
   "metadata": {},
   "outputs": [],
   "source": [
    "video_df['publishedAt'] = pd.to_datetime(video_df['publishedAt']).dt.tz_localize(None)\n",
    "video_df['publishDayName'] = video_df['publishedAt'].dt.strftime(\"%A\")\n",
    "video_df['publishedAt_timestamp'] = video_df['publishedAt'].astype('int64') / 10**9\n",
    "video_df['tagCount'] = video_df['tags'].apply(lambda x: len(x) if isinstance(x, list) else [])\n",
    "video_df['durationSecs'] = video_df['duration'].apply(lambda x: isodate.parse_duration(x).total_seconds())\n",
    "video_df['durationSecs'] = video_df['duration'].apply(\n",
    "    lambda x: isodate.parse_duration(x).total_seconds() if pd.notnull(x) else 0\n",
    ")\n",
    "video_df['titleLength'] = video_df['title'].apply(lambda x: len(x))"
   ]
  },
  {
   "cell_type": "markdown",
   "id": "adc7a3b3-3796-4fa8-8a68-8d75bc050d09",
   "metadata": {},
   "source": [
    "### Implementation Approach\n",
    "\n",
    "The data validation process includes distribution analysis of all derived features, cross-verification of temporal conversions, and thorough null value checks after transformation. Feature documentation is maintained with clear naming conventions that reflect the source data, ensuring type consistency across all transformations and preserving raw data alongside newly engineered features. As a result, all features are properly typed for visualisation and are compatible with both statistical and machine learning workflows, making the dataset ready for correlation analysis and hypothesis testing."
   ]
  },
  {
   "cell_type": "code",
   "execution_count": 19,
   "id": "2f748bc1-f2a8-4b00-8637-98020ac9e49e",
   "metadata": {},
   "outputs": [
    {
     "data": {
      "text/html": [
       "<div>\n",
       "<style scoped>\n",
       "    .dataframe tbody tr th:only-of-type {\n",
       "        vertical-align: middle;\n",
       "    }\n",
       "\n",
       "    .dataframe tbody tr th {\n",
       "        vertical-align: top;\n",
       "    }\n",
       "\n",
       "    .dataframe thead th {\n",
       "        text-align: right;\n",
       "    }\n",
       "</style>\n",
       "<table border=\"1\" class=\"dataframe\">\n",
       "  <thead>\n",
       "    <tr style=\"text-align: right;\">\n",
       "      <th></th>\n",
       "      <th>video_id</th>\n",
       "      <th>channelTitle</th>\n",
       "      <th>title</th>\n",
       "      <th>description</th>\n",
       "      <th>tags</th>\n",
       "      <th>publishedAt</th>\n",
       "      <th>viewCount</th>\n",
       "      <th>likeCount</th>\n",
       "      <th>favouriteCount</th>\n",
       "      <th>commentCount</th>\n",
       "      <th>duration</th>\n",
       "      <th>definition</th>\n",
       "      <th>caption</th>\n",
       "      <th>publishDayName</th>\n",
       "      <th>publishedAt_timestamp</th>\n",
       "      <th>tagCount</th>\n",
       "      <th>durationSecs</th>\n",
       "      <th>titleLength</th>\n",
       "    </tr>\n",
       "  </thead>\n",
       "  <tbody>\n",
       "    <tr>\n",
       "      <th>0</th>\n",
       "      <td>F5eSaabAAmk</td>\n",
       "      <td>Benjamin Seda</td>\n",
       "      <td>How to ACTUALLY Get a Girlfriend in 2025 (Full...</td>\n",
       "      <td>👉🏼 Get 1-3+ dates per week in 30 days (coachin...</td>\n",
       "      <td>[how to flirt with a girl, dates, how to get a...</td>\n",
       "      <td>2025-03-06 15:27:49</td>\n",
       "      <td>5034.0</td>\n",
       "      <td>254.0</td>\n",
       "      <td>0.0</td>\n",
       "      <td>27.0</td>\n",
       "      <td>PT15M4S</td>\n",
       "      <td>hd</td>\n",
       "      <td>False</td>\n",
       "      <td>Thursday</td>\n",
       "      <td>1.741275e+09</td>\n",
       "      <td>21</td>\n",
       "      <td>904.0</td>\n",
       "      <td>53</td>\n",
       "    </tr>\n",
       "    <tr>\n",
       "      <th>1</th>\n",
       "      <td>xJ6b8CV-pQ0</td>\n",
       "      <td>Benjamin Seda</td>\n",
       "      <td>How to Find A 10/10 Girlfriend</td>\n",
       "      <td>👫 My 3 step formula to approach &amp; attract wome...</td>\n",
       "      <td>[how to flirt with a girl, dates, how to get a...</td>\n",
       "      <td>2025-03-03 15:01:24</td>\n",
       "      <td>3346.0</td>\n",
       "      <td>330.0</td>\n",
       "      <td>0.0</td>\n",
       "      <td>22.0</td>\n",
       "      <td>PT59S</td>\n",
       "      <td>hd</td>\n",
       "      <td>False</td>\n",
       "      <td>Monday</td>\n",
       "      <td>1.741014e+09</td>\n",
       "      <td>13</td>\n",
       "      <td>59.0</td>\n",
       "      <td>30</td>\n",
       "    </tr>\n",
       "    <tr>\n",
       "      <th>2</th>\n",
       "      <td>kPhrei5S88U</td>\n",
       "      <td>Benjamin Seda</td>\n",
       "      <td>The Mistake 99% of Men Make That Keep Them Single</td>\n",
       "      <td>👫 My 3 step formula to approach &amp; attract wome...</td>\n",
       "      <td>[how to flirt with a girl, dates, how to get a...</td>\n",
       "      <td>2025-03-01 14:45:07</td>\n",
       "      <td>2690.0</td>\n",
       "      <td>222.0</td>\n",
       "      <td>0.0</td>\n",
       "      <td>19.0</td>\n",
       "      <td>PT36S</td>\n",
       "      <td>hd</td>\n",
       "      <td>False</td>\n",
       "      <td>Saturday</td>\n",
       "      <td>1.740840e+09</td>\n",
       "      <td>13</td>\n",
       "      <td>36.0</td>\n",
       "      <td>49</td>\n",
       "    </tr>\n",
       "    <tr>\n",
       "      <th>3</th>\n",
       "      <td>4ZnwTwLcAeM</td>\n",
       "      <td>Benjamin Seda</td>\n",
       "      <td>How to Always Get That 2nd Date</td>\n",
       "      <td>👫 My 3 step formula to approach &amp; attract wome...</td>\n",
       "      <td>[how to flirt with a girl, dates, how to get a...</td>\n",
       "      <td>2025-02-27 14:15:00</td>\n",
       "      <td>4060.0</td>\n",
       "      <td>413.0</td>\n",
       "      <td>0.0</td>\n",
       "      <td>9.0</td>\n",
       "      <td>PT46S</td>\n",
       "      <td>hd</td>\n",
       "      <td>False</td>\n",
       "      <td>Thursday</td>\n",
       "      <td>1.740666e+09</td>\n",
       "      <td>13</td>\n",
       "      <td>46.0</td>\n",
       "      <td>31</td>\n",
       "    </tr>\n",
       "    <tr>\n",
       "      <th>4</th>\n",
       "      <td>VW9-SBs6yIg</td>\n",
       "      <td>Benjamin Seda</td>\n",
       "      <td>The Donald Trump Method for Tinder (STEAL THIS)</td>\n",
       "      <td>👫 My 3 step formula to approach &amp; attract wome...</td>\n",
       "      <td>[how to flirt with a girl, dates, how to get a...</td>\n",
       "      <td>2025-02-26 13:45:03</td>\n",
       "      <td>6818.0</td>\n",
       "      <td>316.0</td>\n",
       "      <td>0.0</td>\n",
       "      <td>30.0</td>\n",
       "      <td>PT32S</td>\n",
       "      <td>hd</td>\n",
       "      <td>False</td>\n",
       "      <td>Wednesday</td>\n",
       "      <td>1.740578e+09</td>\n",
       "      <td>13</td>\n",
       "      <td>32.0</td>\n",
       "      <td>47</td>\n",
       "    </tr>\n",
       "    <tr>\n",
       "      <th>...</th>\n",
       "      <td>...</td>\n",
       "      <td>...</td>\n",
       "      <td>...</td>\n",
       "      <td>...</td>\n",
       "      <td>...</td>\n",
       "      <td>...</td>\n",
       "      <td>...</td>\n",
       "      <td>...</td>\n",
       "      <td>...</td>\n",
       "      <td>...</td>\n",
       "      <td>...</td>\n",
       "      <td>...</td>\n",
       "      <td>...</td>\n",
       "      <td>...</td>\n",
       "      <td>...</td>\n",
       "      <td>...</td>\n",
       "      <td>...</td>\n",
       "      <td>...</td>\n",
       "    </tr>\n",
       "    <tr>\n",
       "      <th>13670</th>\n",
       "      <td>_X4P6L622-8</td>\n",
       "      <td>The Corbett Report (Unofficial)</td>\n",
       "      <td>How Do I Defend Voluntarism? - Questions For C...</td>\n",
       "      <td>I have no affiliation with James Corbett or Th...</td>\n",
       "      <td>[]</td>\n",
       "      <td>2022-05-25 13:22:06</td>\n",
       "      <td>393.0</td>\n",
       "      <td>15.0</td>\n",
       "      <td>0.0</td>\n",
       "      <td>2.0</td>\n",
       "      <td>PT28M13S</td>\n",
       "      <td>hd</td>\n",
       "      <td>False</td>\n",
       "      <td>Wednesday</td>\n",
       "      <td>1.653485e+09</td>\n",
       "      <td>0</td>\n",
       "      <td>1693.0</td>\n",
       "      <td>52</td>\n",
       "    </tr>\n",
       "    <tr>\n",
       "      <th>13671</th>\n",
       "      <td>tkmZ4c2AOVY</td>\n",
       "      <td>The Corbett Report (Unofficial)</td>\n",
       "      <td>The 5G Dragnet</td>\n",
       "      <td>I have no affiliation with James Corbett or Th...</td>\n",
       "      <td>[]</td>\n",
       "      <td>2022-05-24 17:28:15</td>\n",
       "      <td>1226.0</td>\n",
       "      <td>61.0</td>\n",
       "      <td>0.0</td>\n",
       "      <td>2.0</td>\n",
       "      <td>PT25M44S</td>\n",
       "      <td>sd</td>\n",
       "      <td>False</td>\n",
       "      <td>Tuesday</td>\n",
       "      <td>1.653413e+09</td>\n",
       "      <td>0</td>\n",
       "      <td>1544.0</td>\n",
       "      <td>14</td>\n",
       "    </tr>\n",
       "    <tr>\n",
       "      <th>13672</th>\n",
       "      <td>mr7itEUIVew</td>\n",
       "      <td>The Corbett Report (Unofficial)</td>\n",
       "      <td>False Flags: The Secret History of Al Qaeda — ...</td>\n",
       "      <td>I have no affiliation with James Corbett or Th...</td>\n",
       "      <td>[]</td>\n",
       "      <td>2022-05-24 17:01:10</td>\n",
       "      <td>5531.0</td>\n",
       "      <td>179.0</td>\n",
       "      <td>0.0</td>\n",
       "      <td>16.0</td>\n",
       "      <td>PT1H16M19S</td>\n",
       "      <td>sd</td>\n",
       "      <td>False</td>\n",
       "      <td>Tuesday</td>\n",
       "      <td>1.653412e+09</td>\n",
       "      <td>0</td>\n",
       "      <td>4579.0</td>\n",
       "      <td>66</td>\n",
       "    </tr>\n",
       "    <tr>\n",
       "      <th>13673</th>\n",
       "      <td>ochRNyIDTE8</td>\n",
       "      <td>The Corbett Report (Unofficial)</td>\n",
       "      <td>Episode 409 - False Flags: The Secret History ...</td>\n",
       "      <td>I have no affiliation with James Corbett or Th...</td>\n",
       "      <td>[]</td>\n",
       "      <td>2022-05-24 17:01:06</td>\n",
       "      <td>6132.0</td>\n",
       "      <td>212.0</td>\n",
       "      <td>0.0</td>\n",
       "      <td>16.0</td>\n",
       "      <td>PT1H59M39S</td>\n",
       "      <td>sd</td>\n",
       "      <td>False</td>\n",
       "      <td>Tuesday</td>\n",
       "      <td>1.653412e+09</td>\n",
       "      <td>0</td>\n",
       "      <td>7179.0</td>\n",
       "      <td>72</td>\n",
       "    </tr>\n",
       "    <tr>\n",
       "      <th>13674</th>\n",
       "      <td>Jyjqw_HwXVg</td>\n",
       "      <td>The Corbett Report (Unofficial)</td>\n",
       "      <td>HOW BIG OIL CONQUERED THE WORLD</td>\n",
       "      <td>I have no affiliation with James Corbett or Th...</td>\n",
       "      <td>[]</td>\n",
       "      <td>2022-05-23 15:45:56</td>\n",
       "      <td>8782.0</td>\n",
       "      <td>340.0</td>\n",
       "      <td>0.0</td>\n",
       "      <td>30.0</td>\n",
       "      <td>PT1H11M27S</td>\n",
       "      <td>sd</td>\n",
       "      <td>False</td>\n",
       "      <td>Monday</td>\n",
       "      <td>1.653321e+09</td>\n",
       "      <td>0</td>\n",
       "      <td>4287.0</td>\n",
       "      <td>31</td>\n",
       "    </tr>\n",
       "  </tbody>\n",
       "</table>\n",
       "<p>13675 rows × 18 columns</p>\n",
       "</div>"
      ],
      "text/plain": [
       "          video_id                     channelTitle  \\\n",
       "0      F5eSaabAAmk                    Benjamin Seda   \n",
       "1      xJ6b8CV-pQ0                    Benjamin Seda   \n",
       "2      kPhrei5S88U                    Benjamin Seda   \n",
       "3      4ZnwTwLcAeM                    Benjamin Seda   \n",
       "4      VW9-SBs6yIg                    Benjamin Seda   \n",
       "...            ...                              ...   \n",
       "13670  _X4P6L622-8  The Corbett Report (Unofficial)   \n",
       "13671  tkmZ4c2AOVY  The Corbett Report (Unofficial)   \n",
       "13672  mr7itEUIVew  The Corbett Report (Unofficial)   \n",
       "13673  ochRNyIDTE8  The Corbett Report (Unofficial)   \n",
       "13674  Jyjqw_HwXVg  The Corbett Report (Unofficial)   \n",
       "\n",
       "                                                   title  \\\n",
       "0      How to ACTUALLY Get a Girlfriend in 2025 (Full...   \n",
       "1                         How to Find A 10/10 Girlfriend   \n",
       "2      The Mistake 99% of Men Make That Keep Them Single   \n",
       "3                        How to Always Get That 2nd Date   \n",
       "4        The Donald Trump Method for Tinder (STEAL THIS)   \n",
       "...                                                  ...   \n",
       "13670  How Do I Defend Voluntarism? - Questions For C...   \n",
       "13671                                     The 5G Dragnet   \n",
       "13672  False Flags: The Secret History of Al Qaeda — ...   \n",
       "13673  Episode 409 - False Flags: The Secret History ...   \n",
       "13674                    HOW BIG OIL CONQUERED THE WORLD   \n",
       "\n",
       "                                             description  \\\n",
       "0      👉🏼 Get 1-3+ dates per week in 30 days (coachin...   \n",
       "1      👫 My 3 step formula to approach & attract wome...   \n",
       "2      👫 My 3 step formula to approach & attract wome...   \n",
       "3      👫 My 3 step formula to approach & attract wome...   \n",
       "4      👫 My 3 step formula to approach & attract wome...   \n",
       "...                                                  ...   \n",
       "13670  I have no affiliation with James Corbett or Th...   \n",
       "13671  I have no affiliation with James Corbett or Th...   \n",
       "13672  I have no affiliation with James Corbett or Th...   \n",
       "13673  I have no affiliation with James Corbett or Th...   \n",
       "13674  I have no affiliation with James Corbett or Th...   \n",
       "\n",
       "                                                    tags         publishedAt  \\\n",
       "0      [how to flirt with a girl, dates, how to get a... 2025-03-06 15:27:49   \n",
       "1      [how to flirt with a girl, dates, how to get a... 2025-03-03 15:01:24   \n",
       "2      [how to flirt with a girl, dates, how to get a... 2025-03-01 14:45:07   \n",
       "3      [how to flirt with a girl, dates, how to get a... 2025-02-27 14:15:00   \n",
       "4      [how to flirt with a girl, dates, how to get a... 2025-02-26 13:45:03   \n",
       "...                                                  ...                 ...   \n",
       "13670                                                 [] 2022-05-25 13:22:06   \n",
       "13671                                                 [] 2022-05-24 17:28:15   \n",
       "13672                                                 [] 2022-05-24 17:01:10   \n",
       "13673                                                 [] 2022-05-24 17:01:06   \n",
       "13674                                                 [] 2022-05-23 15:45:56   \n",
       "\n",
       "       viewCount  likeCount  favouriteCount  commentCount    duration  \\\n",
       "0         5034.0      254.0             0.0          27.0     PT15M4S   \n",
       "1         3346.0      330.0             0.0          22.0       PT59S   \n",
       "2         2690.0      222.0             0.0          19.0       PT36S   \n",
       "3         4060.0      413.0             0.0           9.0       PT46S   \n",
       "4         6818.0      316.0             0.0          30.0       PT32S   \n",
       "...          ...        ...             ...           ...         ...   \n",
       "13670      393.0       15.0             0.0           2.0    PT28M13S   \n",
       "13671     1226.0       61.0             0.0           2.0    PT25M44S   \n",
       "13672     5531.0      179.0             0.0          16.0  PT1H16M19S   \n",
       "13673     6132.0      212.0             0.0          16.0  PT1H59M39S   \n",
       "13674     8782.0      340.0             0.0          30.0  PT1H11M27S   \n",
       "\n",
       "      definition  caption publishDayName  publishedAt_timestamp  tagCount  \\\n",
       "0             hd    False       Thursday           1.741275e+09        21   \n",
       "1             hd    False         Monday           1.741014e+09        13   \n",
       "2             hd    False       Saturday           1.740840e+09        13   \n",
       "3             hd    False       Thursday           1.740666e+09        13   \n",
       "4             hd    False      Wednesday           1.740578e+09        13   \n",
       "...          ...      ...            ...                    ...       ...   \n",
       "13670         hd    False      Wednesday           1.653485e+09         0   \n",
       "13671         sd    False        Tuesday           1.653413e+09         0   \n",
       "13672         sd    False        Tuesday           1.653412e+09         0   \n",
       "13673         sd    False        Tuesday           1.653412e+09         0   \n",
       "13674         sd    False         Monday           1.653321e+09         0   \n",
       "\n",
       "       durationSecs  titleLength  \n",
       "0             904.0           53  \n",
       "1              59.0           30  \n",
       "2              36.0           49  \n",
       "3              46.0           31  \n",
       "4              32.0           47  \n",
       "...             ...          ...  \n",
       "13670        1693.0           52  \n",
       "13671        1544.0           14  \n",
       "13672        4579.0           66  \n",
       "13673        7179.0           72  \n",
       "13674        4287.0           31  \n",
       "\n",
       "[13675 rows x 18 columns]"
      ]
     },
     "execution_count": 19,
     "metadata": {},
     "output_type": "execute_result"
    }
   ],
   "source": [
    "video_df"
   ]
  },
  {
   "cell_type": "markdown",
   "id": "ffd7e211-93db-41db-ad24-2e8ad9d36675",
   "metadata": {},
   "source": [
    "---\n",
    "## Channel Performance Aggregation"
   ]
  },
  {
   "cell_type": "markdown",
   "id": "21542da9-abf3-4aec-8e80-710b4cee5e70",
   "metadata": {},
   "source": [
    "This process calculates core performance metrics for each YouTube channel by grouping the data by channel title. It sums up total views, likes, and comments for each channel and then computes the engagement rate, defined as (Total Likes + Total Comments) divided by Total Views. This approach provides a clear measure of audience interaction and overall channel performance."
   ]
  },
  {
   "cell_type": "code",
   "execution_count": 20,
   "id": "18f8964a-8f79-4560-ab75-58fe20031268",
   "metadata": {},
   "outputs": [],
   "source": [
    "channel_stats = video_df.groupby('channelTitle').agg({\n",
    "    'viewCount': 'sum',\n",
    "    'likeCount': 'sum',\n",
    "    'commentCount': 'sum'\n",
    "}).reset_index()"
   ]
  },
  {
   "cell_type": "code",
   "execution_count": 21,
   "id": "84fb5e23-b539-47d4-bf1b-ee1680c5ce2a",
   "metadata": {},
   "outputs": [],
   "source": [
    "channel_stats['engagementRate'] = (channel_stats['likeCount'] + channel_stats['commentCount']) / channel_stats['viewCount']"
   ]
  },
  {
   "cell_type": "markdown",
   "id": "fc748b06-4be0-4562-8edf-7f8c1b810580",
   "metadata": {},
   "source": [
    "This analysis provides valuable insights by comparing absolute performance across channels, identifying high-engagement content creators, and normalizing interaction metrics by view count."
   ]
  },
  {
   "cell_type": "markdown",
   "id": "45b94cf9-25e6-4396-9c09-2ba41d50ead7",
   "metadata": {},
   "source": [
    "| Channel                        | View Count   | Engagement Rate | Relevance to Red Pill                              |\n",
    "|--------------------------------|--------------|-----------------|---------------------------------------------------|\n",
    "| Benjamin Seda                  | 202,773,449  | 3.36%           | Likely relevant (focus on dating, masculinity, and self-improvement) |\n",
    "| Better Bachelor                | 231,797,826  | 6.87%           | Highly relevant (focus on men’s rights, dating, and anti-feminism) |\n",
    "| Coach Corey Wayne              | 251,196,988  | 2.10%           | Relevant (focus on dating advice and relationships) |\n",
    "| FreshandFit                    | 221,150,653  | 4.77%           | Highly relevant (focus on dating, gender dynamics, and masculinity) |\n",
    "| Jordan B Peterson              | 950,219,566  | 3.64%           | Partially relevant (focus on psychology, self-improvement, and gender roles) |\n",
    "| The Corbett Report (Unofficial)| 1,124,728    | 8.61%           | Less relevant (focus on conspiracy theories, not directly Red Pill) |\n",
    "| The Distributist               | 6,873,745    | 4.96%           | Less relevant (focus on traditionalism and economics, not directly Red Pill) |\n",
    "| Alhpamales                     | 239          | 4.18%           | Likely irrelevant (very low view count, unclear relevance) |\n",
    "| Paul Joseph Watson | Перевод     | 2,178          | 2.02%           | Likely irrelevant (low view count, unclear relevance) |\n",
    "\n",
    "### Channels to Keep (Highly Relevant to Red Pill):\n",
    "- **Better Bachelor**\n",
    "- **FreshandFit**\n",
    "- **Benjamin Seda**\n",
    "- **Coach Corey Wayne**\n",
    "- **Jordan B Peterson** \n",
    "\n",
    "### Channels to Exclude (Less Relevant or Low Engagement):\n",
    "- **The Corbett Report (Unofficial)** (focuses on conspiracy theories, not Red Pill)\n",
    "- **The Distributist** (focuses on traditionalism/economics, not Red Pill)\n",
    "- **Alhpamales** and **Paul Joseph Watson | Перевод** (very low engagement, unclear relevance)"
   ]
  },
  {
   "cell_type": "markdown",
   "id": "ec973aff-478d-4c5c-b087-eb8b26cad385",
   "metadata": {},
   "source": [
    "---\n",
    "## Excluding Channels\n",
    "\n",
    "I've removed irrelevant channels from my analysis to eliminate noise and avoid false signals. Channels that focus on unrelated topics, such as conspiracy theories or economics, or that show very low engagement, tend to distort the dataset and make it difficult to identify genuine patterns in Red Pill-related viewer behaviour. By narrowing the focus to channels that consistently discuss masculinity, dating dynamics, and gender relations—and that have statistically significant viewership—I can ensure that my findings more accurately reflect the actual engagement patterns within the Red Pill community. This careful curation helps improve the reliability of my results and maintains the thematic focus of the analysis."
   ]
  },
  {
   "cell_type": "code",
   "execution_count": 23,
   "id": "2b40d4fc-dfa7-4883-a38f-861acc547a56",
   "metadata": {},
   "outputs": [],
   "source": [
    "excluded_channels = [\n",
    "    \"The Corbett Report (Unofficial)\", \n",
    "    \"The Distributist\", \n",
    "    \"Alhpamales\", \n",
    "    \"Paul Joseph Watson | Перевод\"\n",
    "]\n",
    "\n",
    "video_df = video_df[~video_df[\"channelTitle\"].isin(excluded_channels)].copy()"
   ]
  },
  {
   "cell_type": "markdown",
   "id": "9f0941a5-07df-4293-ace2-cec3c05c7d44",
   "metadata": {},
   "source": [
    " **Data Processing**:\n",
    "   - Uses `~.isin()` to keep only channels **not** in the exclusion list\n",
    "   - Applies filtering to both:\n",
    "     - `video_df` (video metadata)\n",
    "     - `comments_df` (user comments)\n",
    "   - `.copy()` prevents pandas warnings"
   ]
  },
  {
   "cell_type": "markdown",
   "id": "5d8143e2-ac4e-47ea-83dd-b03f77ef573d",
   "metadata": {},
   "source": [
    ">**Technical Note**:  \n",
    "The `~` operator inverts the condition - we keep rows where `channelTitle` is **not** in the exclusion list."
   ]
  },
  {
   "cell_type": "code",
   "execution_count": 19,
   "id": "23df859c-8926-420b-a370-f02ae17ac5a5",
   "metadata": {},
   "outputs": [],
   "source": [
    "comments_df = comments_df[~comments_df[\"channelTitle\"].isin(excluded_channels)].copy()"
   ]
  },
  {
   "cell_type": "markdown",
   "id": "6260882a-7f7f-4620-a9d4-cde8e72219fc",
   "metadata": {},
   "source": [
    "**Outcome**:  \n",
    "Clean datasets where all content relates to:\n",
    "- Dating dynamics  \n",
    "- Masculinity  \n",
    "- Gender relations  \n",
    "- Male self-improvement"
   ]
  },
  {
   "cell_type": "markdown",
   "id": "ebc085ec-0877-47a3-aaa7-18d062abac70",
   "metadata": {},
   "source": [
    "---\n",
    "## Video Performance Metrics & Feature Engineering"
   ]
  },
  {
   "cell_type": "markdown",
   "id": "b6129237-7082-4211-b179-b305db30b5e3",
   "metadata": {},
   "source": [
    "### Key Insights from Channel Duration Analysis"
   ]
  },
  {
   "cell_type": "code",
   "execution_count": 24,
   "id": "3b14f0ca-6bdf-4df8-bcd3-bf56e2ddcc79",
   "metadata": {},
   "outputs": [
    {
     "data": {
      "text/plain": [
       "channelTitle\n",
       "Benjamin Seda         195.985205\n",
       "Better Bachelor      1379.782349\n",
       "Coach Corey Wayne     659.063435\n",
       "FreshandFit          3706.578228\n",
       "Jordan B Peterson    2940.362724\n",
       "Name: durationSecs, dtype: float64"
      ]
     },
     "execution_count": 24,
     "metadata": {},
     "output_type": "execute_result"
    }
   ],
   "source": [
    "video_df.groupby('channelTitle')['durationSecs'].mean()"
   ]
  },
  {
   "cell_type": "markdown",
   "id": "2d71d483-f691-4c21-8d2d-b5cfe2e714d1",
   "metadata": {},
   "source": [
    "Average video duration by channel (seconds):\n",
    "- **FreshandFit**: 3,707 (long-form discussions)  \n",
    "- **Jordan B Peterson**: 2,940 (in-depth lectures)  \n",
    "- **Better Bachelor**: 1,380 (medium-length content)  \n",
    "- **Coach Corey Wayne**: 659 (concise advice)  \n",
    "- **Benjamin Seda**: 196 (short clips)"
   ]
  },
  {
   "cell_type": "markdown",
   "id": "139ddae5-2cc4-4f11-a6c8-cf20c6911b9e",
   "metadata": {},
   "source": [
    "### Newly Engineered Features"
   ]
  },
  {
   "cell_type": "markdown",
   "id": "1a1f75c5-cf19-43c9-b827-2f2878835f1d",
   "metadata": {},
   "source": [
    " **Engagement Metrics**  \n",
    "  I've added some new metrics to help analyse channel engagement more effectively. The `view_per_like` metric shows how many views it takes to get a single like, which helps measure how \"costly\" likes are for a video. The `commentRatio` and `likeRatio` metrics give normalised rates of engagement, showing how often viewers comment or like compared to the total views. Finally, the `popularity_score` combines comments, likes, and views into one weighted score (with comments counted as most important), making it easier to compare overall popularity between videos."
   ]
  },
  {
   "cell_type": "code",
   "execution_count": null,
   "id": "34df434b-8faf-40e7-b330-b44e4839635d",
   "metadata": {},
   "outputs": [],
   "source": [
    "video_df['view_per_like'] = np.where(\n",
    "    video_df['likeCount'] != 0,\n",
    "    video_df['viewCount'] / video_df['likeCount'], \n",
    "    0 \n",
    ")\n",
    "\n",
    "video_df['commentRatio'] = np.where(\n",
    "    video_df['viewCount'] != 0, \n",
    "    video_df['commentCount'] / video_df['viewCount'], \n",
    "    0  \n",
    ")\n",
    "\n",
    "video_df['likeRatio'] = np.where(\n",
    "    video_df['viewCount'] != 0, \n",
    "    video_df['likeCount'] / video_df['viewCount'],  \n",
    "    0  \n",
    ")\n",
    "\n",
    "video_df['popularity_score'] = (\n",
    "    video_df['viewCount'] + \n",
    "    video_df['likeCount'] * 10 + \n",
    "    video_df['commentCount'] * 20\n",
    ")"
   ]
  },
  {
   "cell_type": "markdown",
   "id": "f45e5c6b-ad02-47b5-a183-7d76426d2246",
   "metadata": {},
   "source": [
    " **Content Interaction Features**  \n",
    "  I've introduced new metrics to dig deeper into video engagement. The `comment_duration_interaction` metric combines how much discussion a video generates with its length, helping show which videos spark conversation relative to their duration. The `title_sentiment` metric analyses the tone of each video title, giving a polarity score from -1 (negative) to +1 (positive), which makes it easier to see if certain title tones attract more engagement."
   ]
  },
  {
   "cell_type": "code",
   "execution_count": null,
   "id": "b930eb2e-4c9a-4dcd-a980-399ecd4f0d7d",
   "metadata": {},
   "outputs": [],
   "source": [
    "video_df['comment_duration_interaction'] = video_df['commentCount'] * video_df['durationSecs']\n",
    "video_df = video_df.fillna(0)\n",
    "video_df['title_sentiment'] = video_df['title'].apply(lambda x: TextBlob(x).sentiment.polarity)"
   ]
  },
  {
   "cell_type": "markdown",
   "id": "0bc3121a-613f-4857-ada0-3c27a9b716e3",
   "metadata": {},
   "source": [
    "### Statistical Findings"
   ]
  },
  {
   "cell_type": "code",
   "execution_count": 27,
   "id": "a1e20d2b-f291-4785-95e7-837ee55bae2d",
   "metadata": {},
   "outputs": [
    {
     "data": {
      "text/plain": [
       "623.0344854308742"
      ]
     },
     "execution_count": 27,
     "metadata": {},
     "output_type": "execute_result"
    }
   ],
   "source": [
    "video_df['commentCount'].mean()"
   ]
  },
  {
   "cell_type": "markdown",
   "id": "483d12f1-0376-4e8c-89b6-38bf0a34f29a",
   "metadata": {},
   "source": [
    "On average, each video receives about 623 comments, although there is a wide range in the number of comments across different videos."
   ]
  },
  {
   "cell_type": "code",
   "execution_count": 28,
   "id": "afc28177-01bc-4c34-8f8f-f1fa5c9826ce",
   "metadata": {},
   "outputs": [
    {
     "data": {
      "text/html": [
       "<div>\n",
       "<style scoped>\n",
       "    .dataframe tbody tr th:only-of-type {\n",
       "        vertical-align: middle;\n",
       "    }\n",
       "\n",
       "    .dataframe tbody tr th {\n",
       "        vertical-align: top;\n",
       "    }\n",
       "\n",
       "    .dataframe thead th {\n",
       "        text-align: right;\n",
       "    }\n",
       "</style>\n",
       "<table border=\"1\" class=\"dataframe\">\n",
       "  <thead>\n",
       "    <tr style=\"text-align: right;\">\n",
       "      <th></th>\n",
       "      <th>viewCount</th>\n",
       "      <th>commentCount</th>\n",
       "    </tr>\n",
       "  </thead>\n",
       "  <tbody>\n",
       "    <tr>\n",
       "      <th>viewCount</th>\n",
       "      <td>1.000000</td>\n",
       "      <td>0.617668</td>\n",
       "    </tr>\n",
       "    <tr>\n",
       "      <th>commentCount</th>\n",
       "      <td>0.617668</td>\n",
       "      <td>1.000000</td>\n",
       "    </tr>\n",
       "  </tbody>\n",
       "</table>\n",
       "</div>"
      ],
      "text/plain": [
       "              viewCount  commentCount\n",
       "viewCount      1.000000      0.617668\n",
       "commentCount   0.617668      1.000000"
      ]
     },
     "execution_count": 28,
     "metadata": {},
     "output_type": "execute_result"
    }
   ],
   "source": [
    "video_df[['viewCount', 'commentCount']].corr()"
   ]
  },
  {
   "cell_type": "markdown",
   "id": "4783e545-8183-423a-99cc-8f6a4792b89e",
   "metadata": {},
   "source": [
    "The correlation between views and comments is 0.62, indicating a moderately strong relationship. This means that, in general, videos with more views tend to receive more comments. However, the relationship is not perfectly linear—after a certain point, the number of comments doesn't increase as rapidly as views do. This suggests that while higher viewership does encourage more discussion, audience interaction may start to level off for very popular videos."
   ]
  },
  {
   "cell_type": "markdown",
   "id": "44d7f283-1cad-40e1-a23b-8929b43aab70",
   "metadata": {},
   "source": [
    "> **Technical Implementation Notes**\n",
    ">\n",
    "> - **NaN Handling**:  \n",
    ">   Missing values (NaN) are safely replaced with zeros to prevent errors and maintain consistency in calculations.\n",
    ">\n",
    "> - **Conditional Logic**:  \n",
    ">   Conditional operations are implemented using:\n",
    ">   ```python\n",
    ">   np.where(condition, true_val, false_val)\n",
    ">   ```\n",
    ">   This allows for efficient, vectorized assignment of values based on a specified condition."
   ]
  },
  {
   "cell_type": "code",
   "execution_count": 29,
   "id": "56f28233-28d5-41c9-a2fe-a0efbfb79637",
   "metadata": {},
   "outputs": [
    {
     "data": {
      "text/html": [
       "<div>\n",
       "<style scoped>\n",
       "    .dataframe tbody tr th:only-of-type {\n",
       "        vertical-align: middle;\n",
       "    }\n",
       "\n",
       "    .dataframe tbody tr th {\n",
       "        vertical-align: top;\n",
       "    }\n",
       "\n",
       "    .dataframe thead th {\n",
       "        text-align: right;\n",
       "    }\n",
       "</style>\n",
       "<table border=\"1\" class=\"dataframe\">\n",
       "  <thead>\n",
       "    <tr style=\"text-align: right;\">\n",
       "      <th></th>\n",
       "      <th>video_id</th>\n",
       "      <th>channelTitle</th>\n",
       "      <th>title</th>\n",
       "      <th>description</th>\n",
       "      <th>tags</th>\n",
       "      <th>publishedAt</th>\n",
       "      <th>viewCount</th>\n",
       "      <th>likeCount</th>\n",
       "      <th>favouriteCount</th>\n",
       "      <th>commentCount</th>\n",
       "      <th>...</th>\n",
       "      <th>publishedAt_timestamp</th>\n",
       "      <th>tagCount</th>\n",
       "      <th>durationSecs</th>\n",
       "      <th>titleLength</th>\n",
       "      <th>view_per_like</th>\n",
       "      <th>comment_duration_interaction</th>\n",
       "      <th>popularity_score</th>\n",
       "      <th>commentRatio</th>\n",
       "      <th>likeRatio</th>\n",
       "      <th>title_sentiment</th>\n",
       "    </tr>\n",
       "  </thead>\n",
       "  <tbody>\n",
       "    <tr>\n",
       "      <th>0</th>\n",
       "      <td>F5eSaabAAmk</td>\n",
       "      <td>Benjamin Seda</td>\n",
       "      <td>How to ACTUALLY Get a Girlfriend in 2025 (Full...</td>\n",
       "      <td>👉🏼 Get 1-3+ dates per week in 30 days (coachin...</td>\n",
       "      <td>[how to flirt with a girl, dates, how to get a...</td>\n",
       "      <td>2025-03-06 15:27:49</td>\n",
       "      <td>5034.0</td>\n",
       "      <td>254.0</td>\n",
       "      <td>0.0</td>\n",
       "      <td>27.0</td>\n",
       "      <td>...</td>\n",
       "      <td>1.741275e+09</td>\n",
       "      <td>21</td>\n",
       "      <td>904.0</td>\n",
       "      <td>53</td>\n",
       "      <td>19.818898</td>\n",
       "      <td>24408.0</td>\n",
       "      <td>8114.0</td>\n",
       "      <td>0.005364</td>\n",
       "      <td>0.050457</td>\n",
       "      <td>0.175000</td>\n",
       "    </tr>\n",
       "    <tr>\n",
       "      <th>1</th>\n",
       "      <td>xJ6b8CV-pQ0</td>\n",
       "      <td>Benjamin Seda</td>\n",
       "      <td>How to Find A 10/10 Girlfriend</td>\n",
       "      <td>👫 My 3 step formula to approach &amp; attract wome...</td>\n",
       "      <td>[how to flirt with a girl, dates, how to get a...</td>\n",
       "      <td>2025-03-03 15:01:24</td>\n",
       "      <td>3346.0</td>\n",
       "      <td>330.0</td>\n",
       "      <td>0.0</td>\n",
       "      <td>22.0</td>\n",
       "      <td>...</td>\n",
       "      <td>1.741014e+09</td>\n",
       "      <td>13</td>\n",
       "      <td>59.0</td>\n",
       "      <td>30</td>\n",
       "      <td>10.139394</td>\n",
       "      <td>1298.0</td>\n",
       "      <td>7086.0</td>\n",
       "      <td>0.006575</td>\n",
       "      <td>0.098625</td>\n",
       "      <td>0.000000</td>\n",
       "    </tr>\n",
       "    <tr>\n",
       "      <th>2</th>\n",
       "      <td>kPhrei5S88U</td>\n",
       "      <td>Benjamin Seda</td>\n",
       "      <td>The Mistake 99% of Men Make That Keep Them Single</td>\n",
       "      <td>👫 My 3 step formula to approach &amp; attract wome...</td>\n",
       "      <td>[how to flirt with a girl, dates, how to get a...</td>\n",
       "      <td>2025-03-01 14:45:07</td>\n",
       "      <td>2690.0</td>\n",
       "      <td>222.0</td>\n",
       "      <td>0.0</td>\n",
       "      <td>19.0</td>\n",
       "      <td>...</td>\n",
       "      <td>1.740840e+09</td>\n",
       "      <td>13</td>\n",
       "      <td>36.0</td>\n",
       "      <td>49</td>\n",
       "      <td>12.117117</td>\n",
       "      <td>684.0</td>\n",
       "      <td>5290.0</td>\n",
       "      <td>0.007063</td>\n",
       "      <td>0.082528</td>\n",
       "      <td>-0.071429</td>\n",
       "    </tr>\n",
       "    <tr>\n",
       "      <th>3</th>\n",
       "      <td>4ZnwTwLcAeM</td>\n",
       "      <td>Benjamin Seda</td>\n",
       "      <td>How to Always Get That 2nd Date</td>\n",
       "      <td>👫 My 3 step formula to approach &amp; attract wome...</td>\n",
       "      <td>[how to flirt with a girl, dates, how to get a...</td>\n",
       "      <td>2025-02-27 14:15:00</td>\n",
       "      <td>4060.0</td>\n",
       "      <td>413.0</td>\n",
       "      <td>0.0</td>\n",
       "      <td>9.0</td>\n",
       "      <td>...</td>\n",
       "      <td>1.740666e+09</td>\n",
       "      <td>13</td>\n",
       "      <td>46.0</td>\n",
       "      <td>31</td>\n",
       "      <td>9.830508</td>\n",
       "      <td>414.0</td>\n",
       "      <td>8370.0</td>\n",
       "      <td>0.002217</td>\n",
       "      <td>0.101724</td>\n",
       "      <td>0.000000</td>\n",
       "    </tr>\n",
       "    <tr>\n",
       "      <th>4</th>\n",
       "      <td>VW9-SBs6yIg</td>\n",
       "      <td>Benjamin Seda</td>\n",
       "      <td>The Donald Trump Method for Tinder (STEAL THIS)</td>\n",
       "      <td>👫 My 3 step formula to approach &amp; attract wome...</td>\n",
       "      <td>[how to flirt with a girl, dates, how to get a...</td>\n",
       "      <td>2025-02-26 13:45:03</td>\n",
       "      <td>6818.0</td>\n",
       "      <td>316.0</td>\n",
       "      <td>0.0</td>\n",
       "      <td>30.0</td>\n",
       "      <td>...</td>\n",
       "      <td>1.740578e+09</td>\n",
       "      <td>13</td>\n",
       "      <td>32.0</td>\n",
       "      <td>47</td>\n",
       "      <td>21.575949</td>\n",
       "      <td>960.0</td>\n",
       "      <td>10578.0</td>\n",
       "      <td>0.004400</td>\n",
       "      <td>0.046348</td>\n",
       "      <td>0.000000</td>\n",
       "    </tr>\n",
       "    <tr>\n",
       "      <th>...</th>\n",
       "      <td>...</td>\n",
       "      <td>...</td>\n",
       "      <td>...</td>\n",
       "      <td>...</td>\n",
       "      <td>...</td>\n",
       "      <td>...</td>\n",
       "      <td>...</td>\n",
       "      <td>...</td>\n",
       "      <td>...</td>\n",
       "      <td>...</td>\n",
       "      <td>...</td>\n",
       "      <td>...</td>\n",
       "      <td>...</td>\n",
       "      <td>...</td>\n",
       "      <td>...</td>\n",
       "      <td>...</td>\n",
       "      <td>...</td>\n",
       "      <td>...</td>\n",
       "      <td>...</td>\n",
       "      <td>...</td>\n",
       "      <td>...</td>\n",
       "    </tr>\n",
       "    <tr>\n",
       "      <th>12917</th>\n",
       "      <td>KO7Z0HdxIek</td>\n",
       "      <td>FreshandFit</td>\n",
       "      <td>The Most OPTIMAL Rep Range For STRENGTH</td>\n",
       "      <td>Many people struggle to determine the best rep...</td>\n",
       "      <td>[repetition range, how to lift weights, how to...</td>\n",
       "      <td>2020-06-25 00:36:00</td>\n",
       "      <td>9633.0</td>\n",
       "      <td>601.0</td>\n",
       "      <td>0.0</td>\n",
       "      <td>21.0</td>\n",
       "      <td>...</td>\n",
       "      <td>1.593045e+09</td>\n",
       "      <td>23</td>\n",
       "      <td>258.0</td>\n",
       "      <td>39</td>\n",
       "      <td>16.028286</td>\n",
       "      <td>5418.0</td>\n",
       "      <td>16063.0</td>\n",
       "      <td>0.002180</td>\n",
       "      <td>0.062390</td>\n",
       "      <td>0.500000</td>\n",
       "    </tr>\n",
       "    <tr>\n",
       "      <th>12918</th>\n",
       "      <td>3LXo6A-JnV4</td>\n",
       "      <td>FreshandFit</td>\n",
       "      <td>What's better for fat loss? Low carb or high c...</td>\n",
       "      <td>Today we answer the age old question. Are high...</td>\n",
       "      <td>[fatloss, lowcarb, weight loss, keto, evidence...</td>\n",
       "      <td>2020-06-20 14:45:11</td>\n",
       "      <td>9209.0</td>\n",
       "      <td>490.0</td>\n",
       "      <td>0.0</td>\n",
       "      <td>26.0</td>\n",
       "      <td>...</td>\n",
       "      <td>1.592664e+09</td>\n",
       "      <td>23</td>\n",
       "      <td>193.0</td>\n",
       "      <td>50</td>\n",
       "      <td>18.793878</td>\n",
       "      <td>5018.0</td>\n",
       "      <td>14629.0</td>\n",
       "      <td>0.002823</td>\n",
       "      <td>0.053209</td>\n",
       "      <td>0.220000</td>\n",
       "    </tr>\n",
       "    <tr>\n",
       "      <th>12919</th>\n",
       "      <td>e9Gdl-szTg4</td>\n",
       "      <td>FreshandFit</td>\n",
       "      <td>Are Fitness/Calorie Tracking Apps Accurate? Th...</td>\n",
       "      <td>Are these popular apps bringing you closer to ...</td>\n",
       "      <td>[redpill fitness hypergamy #gainz]</td>\n",
       "      <td>2020-06-13 15:00:11</td>\n",
       "      <td>4787.0</td>\n",
       "      <td>242.0</td>\n",
       "      <td>0.0</td>\n",
       "      <td>10.0</td>\n",
       "      <td>...</td>\n",
       "      <td>1.592060e+09</td>\n",
       "      <td>1</td>\n",
       "      <td>271.0</td>\n",
       "      <td>66</td>\n",
       "      <td>19.780992</td>\n",
       "      <td>2710.0</td>\n",
       "      <td>7407.0</td>\n",
       "      <td>0.002089</td>\n",
       "      <td>0.050554</td>\n",
       "      <td>-0.163889</td>\n",
       "    </tr>\n",
       "    <tr>\n",
       "      <th>12920</th>\n",
       "      <td>RHlPDYsuBYs</td>\n",
       "      <td>FreshandFit</td>\n",
       "      <td>IS FASTING SUPERIOR? What the science says...</td>\n",
       "      <td>Does fasting build more muscle or help burn mo...</td>\n",
       "      <td>[fasting, fitness, aesthetic]</td>\n",
       "      <td>2020-05-30 15:00:27</td>\n",
       "      <td>23952.0</td>\n",
       "      <td>1353.0</td>\n",
       "      <td>0.0</td>\n",
       "      <td>64.0</td>\n",
       "      <td>...</td>\n",
       "      <td>1.590851e+09</td>\n",
       "      <td>3</td>\n",
       "      <td>426.0</td>\n",
       "      <td>45</td>\n",
       "      <td>17.702882</td>\n",
       "      <td>27264.0</td>\n",
       "      <td>38762.0</td>\n",
       "      <td>0.002672</td>\n",
       "      <td>0.056488</td>\n",
       "      <td>0.700000</td>\n",
       "    </tr>\n",
       "    <tr>\n",
       "      <th>12921</th>\n",
       "      <td>FirJFTPpE8M</td>\n",
       "      <td>FreshandFit</td>\n",
       "      <td>Welcome to the TRUTH in Fitness...</td>\n",
       "      <td>Don't forget to LIKE, SUBSCRIBE, and COMMENT! ...</td>\n",
       "      <td>[Fitness, Redpill]</td>\n",
       "      <td>2020-05-08 15:00:10</td>\n",
       "      <td>18681.0</td>\n",
       "      <td>542.0</td>\n",
       "      <td>0.0</td>\n",
       "      <td>49.0</td>\n",
       "      <td>...</td>\n",
       "      <td>1.588950e+09</td>\n",
       "      <td>2</td>\n",
       "      <td>61.0</td>\n",
       "      <td>34</td>\n",
       "      <td>34.466790</td>\n",
       "      <td>2989.0</td>\n",
       "      <td>25081.0</td>\n",
       "      <td>0.002623</td>\n",
       "      <td>0.029013</td>\n",
       "      <td>0.800000</td>\n",
       "    </tr>\n",
       "  </tbody>\n",
       "</table>\n",
       "<p>12904 rows × 24 columns</p>\n",
       "</div>"
      ],
      "text/plain": [
       "          video_id   channelTitle  \\\n",
       "0      F5eSaabAAmk  Benjamin Seda   \n",
       "1      xJ6b8CV-pQ0  Benjamin Seda   \n",
       "2      kPhrei5S88U  Benjamin Seda   \n",
       "3      4ZnwTwLcAeM  Benjamin Seda   \n",
       "4      VW9-SBs6yIg  Benjamin Seda   \n",
       "...            ...            ...   \n",
       "12917  KO7Z0HdxIek    FreshandFit   \n",
       "12918  3LXo6A-JnV4    FreshandFit   \n",
       "12919  e9Gdl-szTg4    FreshandFit   \n",
       "12920  RHlPDYsuBYs    FreshandFit   \n",
       "12921  FirJFTPpE8M    FreshandFit   \n",
       "\n",
       "                                                   title  \\\n",
       "0      How to ACTUALLY Get a Girlfriend in 2025 (Full...   \n",
       "1                         How to Find A 10/10 Girlfriend   \n",
       "2      The Mistake 99% of Men Make That Keep Them Single   \n",
       "3                        How to Always Get That 2nd Date   \n",
       "4        The Donald Trump Method for Tinder (STEAL THIS)   \n",
       "...                                                  ...   \n",
       "12917            The Most OPTIMAL Rep Range For STRENGTH   \n",
       "12918  What's better for fat loss? Low carb or high c...   \n",
       "12919  Are Fitness/Calorie Tracking Apps Accurate? Th...   \n",
       "12920      IS FASTING SUPERIOR? What the science says...   \n",
       "12921                 Welcome to the TRUTH in Fitness...   \n",
       "\n",
       "                                             description  \\\n",
       "0      👉🏼 Get 1-3+ dates per week in 30 days (coachin...   \n",
       "1      👫 My 3 step formula to approach & attract wome...   \n",
       "2      👫 My 3 step formula to approach & attract wome...   \n",
       "3      👫 My 3 step formula to approach & attract wome...   \n",
       "4      👫 My 3 step formula to approach & attract wome...   \n",
       "...                                                  ...   \n",
       "12917  Many people struggle to determine the best rep...   \n",
       "12918  Today we answer the age old question. Are high...   \n",
       "12919  Are these popular apps bringing you closer to ...   \n",
       "12920  Does fasting build more muscle or help burn mo...   \n",
       "12921  Don't forget to LIKE, SUBSCRIBE, and COMMENT! ...   \n",
       "\n",
       "                                                    tags         publishedAt  \\\n",
       "0      [how to flirt with a girl, dates, how to get a... 2025-03-06 15:27:49   \n",
       "1      [how to flirt with a girl, dates, how to get a... 2025-03-03 15:01:24   \n",
       "2      [how to flirt with a girl, dates, how to get a... 2025-03-01 14:45:07   \n",
       "3      [how to flirt with a girl, dates, how to get a... 2025-02-27 14:15:00   \n",
       "4      [how to flirt with a girl, dates, how to get a... 2025-02-26 13:45:03   \n",
       "...                                                  ...                 ...   \n",
       "12917  [repetition range, how to lift weights, how to... 2020-06-25 00:36:00   \n",
       "12918  [fatloss, lowcarb, weight loss, keto, evidence... 2020-06-20 14:45:11   \n",
       "12919                 [redpill fitness hypergamy #gainz] 2020-06-13 15:00:11   \n",
       "12920                      [fasting, fitness, aesthetic] 2020-05-30 15:00:27   \n",
       "12921                                 [Fitness, Redpill] 2020-05-08 15:00:10   \n",
       "\n",
       "       viewCount  likeCount  favouriteCount  commentCount  ...  \\\n",
       "0         5034.0      254.0             0.0          27.0  ...   \n",
       "1         3346.0      330.0             0.0          22.0  ...   \n",
       "2         2690.0      222.0             0.0          19.0  ...   \n",
       "3         4060.0      413.0             0.0           9.0  ...   \n",
       "4         6818.0      316.0             0.0          30.0  ...   \n",
       "...          ...        ...             ...           ...  ...   \n",
       "12917     9633.0      601.0             0.0          21.0  ...   \n",
       "12918     9209.0      490.0             0.0          26.0  ...   \n",
       "12919     4787.0      242.0             0.0          10.0  ...   \n",
       "12920    23952.0     1353.0             0.0          64.0  ...   \n",
       "12921    18681.0      542.0             0.0          49.0  ...   \n",
       "\n",
       "      publishedAt_timestamp tagCount  durationSecs titleLength  view_per_like  \\\n",
       "0              1.741275e+09       21         904.0          53      19.818898   \n",
       "1              1.741014e+09       13          59.0          30      10.139394   \n",
       "2              1.740840e+09       13          36.0          49      12.117117   \n",
       "3              1.740666e+09       13          46.0          31       9.830508   \n",
       "4              1.740578e+09       13          32.0          47      21.575949   \n",
       "...                     ...      ...           ...         ...            ...   \n",
       "12917          1.593045e+09       23         258.0          39      16.028286   \n",
       "12918          1.592664e+09       23         193.0          50      18.793878   \n",
       "12919          1.592060e+09        1         271.0          66      19.780992   \n",
       "12920          1.590851e+09        3         426.0          45      17.702882   \n",
       "12921          1.588950e+09        2          61.0          34      34.466790   \n",
       "\n",
       "       comment_duration_interaction  popularity_score  commentRatio  \\\n",
       "0                           24408.0            8114.0      0.005364   \n",
       "1                            1298.0            7086.0      0.006575   \n",
       "2                             684.0            5290.0      0.007063   \n",
       "3                             414.0            8370.0      0.002217   \n",
       "4                             960.0           10578.0      0.004400   \n",
       "...                             ...               ...           ...   \n",
       "12917                        5418.0           16063.0      0.002180   \n",
       "12918                        5018.0           14629.0      0.002823   \n",
       "12919                        2710.0            7407.0      0.002089   \n",
       "12920                       27264.0           38762.0      0.002672   \n",
       "12921                        2989.0           25081.0      0.002623   \n",
       "\n",
       "       likeRatio  title_sentiment  \n",
       "0       0.050457         0.175000  \n",
       "1       0.098625         0.000000  \n",
       "2       0.082528        -0.071429  \n",
       "3       0.101724         0.000000  \n",
       "4       0.046348         0.000000  \n",
       "...          ...              ...  \n",
       "12917   0.062390         0.500000  \n",
       "12918   0.053209         0.220000  \n",
       "12919   0.050554        -0.163889  \n",
       "12920   0.056488         0.700000  \n",
       "12921   0.029013         0.800000  \n",
       "\n",
       "[12904 rows x 24 columns]"
      ]
     },
     "execution_count": 29,
     "metadata": {},
     "output_type": "execute_result"
    }
   ],
   "source": [
    "video_df"
   ]
  },
  {
   "cell_type": "markdown",
   "id": "27259866-701f-46df-816b-5e60850a2eb1",
   "metadata": {},
   "source": [
    "---\n",
    "## Exploratory Data Snapshot\n",
    "\n",
    "*(While not part of the data cleaning pipeline, examining top-performing videos helps contextualize our dataset.)*"
   ]
  },
  {
   "cell_type": "code",
   "execution_count": 30,
   "id": "5e3136b3-1f3d-4ee6-b947-590cc6a1f64a",
   "metadata": {},
   "outputs": [
    {
     "name": "stdout",
     "output_type": "stream",
     "text": [
      "                                                   title   viewCount  \\\n",
      "9910           JBP X @MattRifeComedy.  Today at 5pm EST.  18502980.0   \n",
      "10451  Lecture: Biblical Series I: Introduction to th...  13706650.0   \n",
      "1463   THIS is How A Girl Wants You to TEXT HER | How...  11807649.0   \n",
      "1473   7 Ways To INSTANTLY Look MORE ATTRACTIVE | How...   8246244.0   \n",
      "9984                             COVID-19 Cause of Death   7952713.0   \n",
      "10053  Talking to Muslims About Christ | Mohammed Hij...   7756906.0   \n",
      "9973                            What Are Women Good For?   7656196.0   \n",
      "10072         Africa is Not Poor Because of Colonization   7541337.0   \n",
      "10389  Documentary: A Glitch in the Matrix (David Ful...   6605578.0   \n",
      "90             If a Girl is Looking at You, Approach Her   6594217.0   \n",
      "\n",
      "            channelTitle  \n",
      "9910   Jordan B Peterson  \n",
      "10451  Jordan B Peterson  \n",
      "1463       Benjamin Seda  \n",
      "1473       Benjamin Seda  \n",
      "9984   Jordan B Peterson  \n",
      "10053  Jordan B Peterson  \n",
      "9973   Jordan B Peterson  \n",
      "10072  Jordan B Peterson  \n",
      "10389  Jordan B Peterson  \n",
      "90         Benjamin Seda  \n"
     ]
    }
   ],
   "source": [
    "top_10_views = video_df.nlargest(10, 'viewCount')[['title', 'viewCount', 'channelTitle']]\n",
    "print(top_10_views)"
   ]
  },
  {
   "cell_type": "code",
   "execution_count": 31,
   "id": "ab2fb612-71d4-49b6-ae54-a9c7085dc664",
   "metadata": {},
   "outputs": [
    {
     "name": "stdout",
     "output_type": "stream",
     "text": [
      "                                                   title  likeCount  \\\n",
      "9910           JBP X @MattRifeComedy.  Today at 5pm EST.   611913.0   \n",
      "10290                                        Return Home   543720.0   \n",
      "9955   The Fight Against Worldwide Child Slavery & th...   318009.0   \n",
      "10110                               Article: Twitter Ban   315518.0   \n",
      "9973                            What Are Women Good For?   305820.0   \n",
      "9984                             COVID-19 Cause of Death   299559.0   \n",
      "10087    Language Is Used as a Group Protection Strategy   232440.0   \n",
      "114                 If A Girl is Looking at You, Do This   231402.0   \n",
      "10451  Lecture: Biblical Series I: Introduction to th...   227120.0   \n",
      "10072         Africa is Not Poor Because of Colonization   220386.0   \n",
      "\n",
      "            channelTitle  \n",
      "9910   Jordan B Peterson  \n",
      "10290  Jordan B Peterson  \n",
      "9955   Jordan B Peterson  \n",
      "10110  Jordan B Peterson  \n",
      "9973   Jordan B Peterson  \n",
      "9984   Jordan B Peterson  \n",
      "10087  Jordan B Peterson  \n",
      "114        Benjamin Seda  \n",
      "10451  Jordan B Peterson  \n",
      "10072  Jordan B Peterson  \n"
     ]
    }
   ],
   "source": [
    "top_10_likes = video_df.nlargest(10, 'likeCount')[['title', 'likeCount', 'channelTitle']]\n",
    "print(top_10_likes)"
   ]
  },
  {
   "cell_type": "markdown",
   "id": "7c702a76-697d-4641-8543-79392a98e171",
   "metadata": {},
   "source": [
    "## Top 10 Most-Viewed Videos\n",
    "| Views       | Channel             | Title Excerpt                     |\n",
    "|-------------|---------------------|-----------------------------------|\n",
    "| 18.5M       | Jordan B Peterson   | JBP X @MattRifeComedy...          |\n",
    "| 13.7M       | Jordan B Peterson   | Biblical Series Lecture...        |\n",
    "| 11.8M       | Benjamin Seda       | How to Text a Girl...             |\n",
    "\n",
    "### Top 10 Most-Liked Videos  \n",
    "| Likes      | Channel             | Title Excerpt                     |\n",
    "|------------|---------------------|-----------------------------------|\n",
    "| 611K       | Jordan B Peterson   | JBP X @MattRifeComedy...          |\n",
    "| 543K       | Jordan B Peterson   | Return Home                       |\n",
    "| 318K       | Jordan B Peterson   | Child Slavery Article...          |\n",
    "\n",
    "### Key Observations:\n",
    " **Dominant Channels**:  \n",
    "   - Jordan Peterson dominates both views and likes  \n",
    "   - Benjamin Seda appears only in top views (not top likes)  \n",
    "\n",
    " **Content Patterns**:  \n",
    "   - High-performing videos combine:  \n",
    "     - Celebrity collaborations  \n",
    "     - Controversial topics  \n",
    "     - Practical dating advice  \n",
    "\n",
    " **Engagement Disconnect**:  \n",
    "   - Some highly-viewed videos don't make top likes list  \n",
    "   - Suggests viewership ≠ agreement/enjoyment  \n",
    "\n",
    "**Analytical Value:**\n",
    "\n",
    "- Identifies the true leaders in audience reach and engagement\n",
    "- Distinguishes between passive viewership and active support\n",
    "- Lays the groundwork for deeper analysis of what makes a video or channel successful"
   ]
  },
  {
   "cell_type": "markdown",
   "id": "c5c113ec-6a63-425f-a3b2-3a7a3f39f0e9",
   "metadata": {},
   "source": [
    "---\n",
    "## Saving Processed Data"
   ]
  },
  {
   "cell_type": "markdown",
   "id": "052e9282-a3fd-488a-9f88-27768322302f",
   "metadata": {},
   "source": [
    "**File Outputs**:\n",
    "`cleanedDataFrame.csv` - Processed video metadata with:\n",
    "   - Standardized formats\n",
    "   - Engineered features\n",
    "   - Null values handled"
   ]
  },
  {
   "cell_type": "code",
   "execution_count": null,
   "id": "d4c5bca4-9593-4958-90f0-4fa4e6f9f4b8",
   "metadata": {},
   "outputs": [],
   "source": [
    "video_df.to_csv(\"dataFolder/processed/cleanedDataFrame.csv\", index=False)"
   ]
  },
  {
   "cell_type": "markdown",
   "id": "2bc174c2-3cfe-4280-9843-be6ae27e63f5",
   "metadata": {},
   "source": [
    " `cleanedComments.csv` - Filtered comments with:\n",
    "   - Irrelevant channels removed\n",
    "   - Consistent text encoding\n",
    "   - Associated video metadata"
   ]
  },
  {
   "cell_type": "code",
   "execution_count": 21,
   "id": "b63bc1a1-7381-43ee-bee0-ce66c7413c2e",
   "metadata": {},
   "outputs": [],
   "source": [
    "comments_df.to_csv(\"dataFolder/processed/cleanedComments.csv\", index=False)"
   ]
  },
  {
   "cell_type": "markdown",
   "id": "cafbfb41-76dc-4ea7-acd1-64316086b380",
   "metadata": {},
   "source": [
    "> Key parameters include using `index=False` to avoid exporting the pandas index as a column and choosing CSV format for its cross-platform compatibility, human readability, and ease of version control. Files are organized in the `/processed/` subdirectory, keeping them separate from raw data in line with data pipeline best practices."
   ]
  },
  {
   "cell_type": "markdown",
   "id": "970745d0-0355-421e-9ff5-5503c84bae1e",
   "metadata": {},
   "source": [
    "---\n",
    "# Conclusion: Data Cleaning and Exploration\n",
    "\n",
    "This notebook successfully standardised formats, addressed missing values and malformed entries, and refined content by filtering irrelevant channels and preparing comments for NLP analysis. Through feature engineering, key analytical metrics such as engagement ratios and sentiment scores were created, and temporal posting patterns were extracted. Rigorous quality checks ensured no missing values remained, high view-comment correlation was verified, and leading channels like Jordan Peterson were identified. The resulting dataset provides reliable metrics, actionable insights, and ML-ready features, forming a robust foundation for meaningful exploratory analysis with a continued focus on Red Pill themes."
   ]
  },
  {
   "cell_type": "code",
   "execution_count": null,
   "id": "d76d0231-4f95-45a5-b0e1-41872f068fa0",
   "metadata": {},
   "outputs": [],
   "source": []
  }
 ],
 "metadata": {
  "kernelspec": {
   "display_name": "Python 3 (ipykernel)",
   "language": "python",
   "name": "python3"
  },
  "language_info": {
   "codemirror_mode": {
    "name": "ipython",
    "version": 3
   },
   "file_extension": ".py",
   "mimetype": "text/x-python",
   "name": "python",
   "nbconvert_exporter": "python",
   "pygments_lexer": "ipython3",
   "version": "3.13.3"
  }
 },
 "nbformat": 4,
 "nbformat_minor": 5
}
