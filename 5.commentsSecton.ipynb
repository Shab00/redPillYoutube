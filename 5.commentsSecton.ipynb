{
 "cells": [
  {
   "cell_type": "markdown",
   "id": "800fdab8-19ca-4b65-8952-aa4ed7167172",
   "metadata": {},
   "source": [
    "---\n",
    "## Uncovering Patterns in Video Titles"
   ]
  },
  {
   "cell_type": "code",
   "execution_count": null,
   "id": "f6cdb177-18ab-43de-96ee-1a86f0fabb79",
   "metadata": {},
   "outputs": [],
   "source": []
  },
  {
   "cell_type": "markdown",
   "id": "ce03fd14-c21a-4a42-ab7c-ee82cde9f7ee",
   "metadata": {},
   "source": [
    "This section marks the beginning of a deeper exploration into the **titles and comments** of videos, using Natural Language Processing (NLP) techniques to extract meaningful insights. By focusing on high-engagement videos (those with an engagement rate greater than 10%), the analysis aims to identify the most frequently used words in titles. These words may provide clues about the content strategies driving audience engagement. This marks the foundation of a dedicated notebook that will delve into NLP methods, enabling a richer understanding of audience behavior and preferences through textual data."
   ]
  },
  {
   "cell_type": "code",
   "execution_count": null,
   "id": "5143dd2b-25ae-4035-8ce6-f608d4eacd14",
   "metadata": {},
   "outputs": [],
   "source": [
    "# 1. Clean and extract words (fixed version)\n",
    "all_words = []\n",
    "for title in video_df[video_df['engagement_rate'] > 0.1]['title']:\n",
    "    # Remove punctuation and split\n",
    "    words = re.findall(r'\\b[a-z]+\\b', title.lower())  # Cleans better than str.replace\n",
    "    all_words.extend(words)\n",
    "\n",
    "# 2. Count and filter\n",
    "word_counts = Counter(all_words)\n",
    "stopwords = set(['the', 'and', 'to', 'of', 'a', 'in', 'is', 'it', 'that', 'this'])\n",
    "top_words = {word: count for word, count in word_counts.items() \n",
    "             if word not in stopwords and len(word) > 3}  # Filter short words\n",
    "\n",
    "# 3. Get top 15\n",
    "top_15 = Counter(top_words).most_common(15)\n",
    "\n",
    "# 4. Plot with improved formatting\n",
    "plt.figure(figsize=(10, 6))\n",
    "sns.barplot(\n",
    "    x=[count for word, count in top_15],\n",
    "    y=[word for word, count in top_15],\n",
    "    palette='magma_r',\n",
    "    edgecolor='black'\n",
    ")\n",
    "\n",
    "# 5. Professional annotations\n",
    "plt.title(\"Top 15 Title Words in High-Engagement Videos (ER > 10%)\", pad=15)\n",
    "plt.xlabel(\"Frequency Count\")\n",
    "plt.ylabel(\"\")\n",
    "for i, (word, count) in enumerate(top_15):\n",
    "    plt.text(count + 5, i, f\"{count}\", va='center')\n",
    "\n",
    "plt.tight_layout()\n",
    "plt.show()"
   ]
  },
  {
   "cell_type": "code",
   "execution_count": null,
   "id": "f2ba8a1f-e696-40d5-b8dc-de6d974437a3",
   "metadata": {},
   "outputs": [],
   "source": [
    "# 1. Sample and merge data (ensure 'video_id' exists in both DataFrames)\n",
    "comment_sample = comments_df.sample(1000, random_state=42).copy()\n",
    "merged_data = comment_sample.merge(\n",
    "    video_df[['video_id', 'viewCount']],  # Make sure video_df has 'video_id'\n",
    "    on='video_id',\n",
    "    how='left'\n",
    ")\n",
    "\n",
    "# 2. Calculate sentiment ON THE MERGED DATA\n",
    "merged_data['sentiment'] = merged_data['comment'].apply(\n",
    "    lambda x: TextBlob(str(x)).sentiment.polarity if pd.notnull(x) else np.nan\n",
    ")\n",
    "\n",
    "# 3. Filter valid data\n",
    "plot_data = merged_data[\n",
    "    (merged_data['viewCount'] > 0) & \n",
    "    (merged_data['sentiment'].notna())\n",
    "].copy()\n",
    "\n",
    "# 4. Create visualization\n",
    "if len(plot_data) > 0:\n",
    "    plt.figure(figsize=(12, 6))\n",
    "    hexbin = plt.hexbin(\n",
    "        x=plot_data['sentiment'],\n",
    "        y=np.log10(plot_data['viewCount'] + 1),  # +1 to avoid log(0)\n",
    "        gridsize=20,\n",
    "        cmap='Reds',\n",
    "        mincnt=1,\n",
    "        extent=[-1, 1, 0, np.log10(plot_data['viewCount'].max() + 1)]\n",
    "    )\n",
    "    \n",
    "    # Formatting\n",
    "    plt.title(f\"Comment Sentiment vs. Video Popularity (n={len(plot_data)})\", pad=20)\n",
    "    plt.xlabel(\"Comment Sentiment (Negative to Positive)\")\n",
    "    plt.ylabel(\"Log10(View Count + 1)\")\n",
    "    cb = plt.colorbar(hexbin, label='Number of Comments')\n",
    "    plt.axvline(0, color='black', linestyle=':', alpha=0.5)\n",
    "    \n",
    "    plt.tight_layout()\n",
    "    plt.show()\n",
    "else:\n",
    "    print(\"Warning: No valid data points after filtering!\")\n",
    "    print(\"Check if: 1) Comments merged correctly, 2) View counts exist, 3) Sentiment was calculated\")"
   ]
  },
  {
   "cell_type": "code",
   "execution_count": null,
   "id": "f54576e3-4d32-4d99-a316-ce6aa0afddc8",
   "metadata": {},
   "outputs": [],
   "source": []
  },
  {
   "cell_type": "code",
   "execution_count": null,
   "id": "dac6f54b-3ba4-4bdc-b24a-04d3580c81a6",
   "metadata": {},
   "outputs": [],
   "source": []
  },
  {
   "cell_type": "code",
   "execution_count": null,
   "id": "dcd1f32b-6ea1-42ee-b362-7dd6517a10fa",
   "metadata": {},
   "outputs": [],
   "source": []
  },
  {
   "cell_type": "code",
   "execution_count": null,
   "id": "5311b918-46ec-4882-8631-0e561a7619b9",
   "metadata": {},
   "outputs": [],
   "source": []
  }
 ],
 "metadata": {
  "kernelspec": {
   "display_name": "Python (Miniforge3)",
   "language": "python",
   "name": "miniforge3"
  },
  "language_info": {
   "codemirror_mode": {
    "name": "ipython",
    "version": 3
   },
   "file_extension": ".py",
   "mimetype": "text/x-python",
   "name": "python",
   "nbconvert_exporter": "python",
   "pygments_lexer": "ipython3",
   "version": "3.10.14"
  }
 },
 "nbformat": 4,
 "nbformat_minor": 5
}
