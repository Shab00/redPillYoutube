{
 "cells": [
  {
   "cell_type": "markdown",
   "id": "800fdab8-19ca-4b65-8952-aa4ed7167172",
   "metadata": {},
   "source": [
    "# Decoding the Comments: Sentiment, Topics, and Predictive Insights"
   ]
  },
  {
   "cell_type": "markdown",
   "id": "408d31d8-1d73-41ea-bc32-e12050949872",
   "metadata": {},
   "source": [
    "The comments section is often referred to as the \"pulse\" of online communities, offering an unfiltered view of audience sentiment, engagement, and reactions. In this final notebook of the project, we shift our focus to the comments dataset to uncover deeper insights about the audience and their interactions with video content.\n",
    "\n",
    "Through a combination of **data analysis** and **machine learning techniques**, this notebook will explore the following key areas:\n",
    "- **Sentiment Analysis**: Understanding the emotional tone of user comments and its correlation with video engagement.\n",
    "- **Topic Modeling**: Uncovering recurring themes and patterns in audience discussions.\n",
    "- **Predictive Modeling**: Using comments to predict engagement metrics and identify key drivers of interaction.\n",
    "- **Advanced NLP**: Applying modern Natural Language Processing (NLP) techniques to classify sentiment, detect emotions, and extract nuanced insights.\n",
    "\n",
    "This notebook not only aims to generate actionable insights but also demonstrates the application of machine learning and NLP tools to real-world data. By the end, we hope to bridge the gap between content creators and their audience, providing a clearer understanding of how comments reflect and influence engagement.\n",
    "\n",
    "As the final notebook in this series, this analysis will tie together the insights from previous notebooks, offering a holistic view of how video content and audience interaction shape overall engagement trends."
   ]
  },
  {
   "cell_type": "code",
   "execution_count": 1,
   "id": "dac6f54b-3ba4-4bdc-b24a-04d3580c81a6",
   "metadata": {},
   "outputs": [
    {
     "name": "stdout",
     "output_type": "stream",
     "text": [
      "Requirement already satisfied: isodate in /Users/bashaar/miniforge3/lib/python3.10/site-packages (0.6.1)\n",
      "Requirement already satisfied: nltk in /Users/bashaar/miniforge3/lib/python3.10/site-packages (3.9.1)\n",
      "Requirement already satisfied: wordcloud in /Users/bashaar/miniforge3/lib/python3.10/site-packages (1.9.4)\n",
      "Requirement already satisfied: vaderSentiment in /Users/bashaar/miniforge3/lib/python3.10/site-packages (3.3.2)\n",
      "Requirement already satisfied: scikit-learn in /Users/bashaar/miniforge3/lib/python3.10/site-packages (1.2.2)\n",
      "Requirement already satisfied: pandas in /Users/bashaar/miniforge3/lib/python3.10/site-packages (2.2.3)\n",
      "Requirement already satisfied: numpy in /Users/bashaar/miniforge3/lib/python3.10/site-packages (1.26.4)\n",
      "Requirement already satisfied: matplotlib in /Users/bashaar/miniforge3/lib/python3.10/site-packages (3.8.4)\n",
      "Requirement already satisfied: seaborn in /Users/bashaar/miniforge3/lib/python3.10/site-packages (0.13.2)\n",
      "Collecting gensim\n",
      "  Downloading gensim-4.3.3-cp310-cp310-macosx_10_9_x86_64.whl (24.1 MB)\n",
      "\u001b[2K     \u001b[38;2;114;156;31m━━━━━━━━━━━━━━━━━━━━━━━━━━━━━━━━━━━━━━━\u001b[0m \u001b[32m24.1/24.1 MB\u001b[0m \u001b[31m644.4 kB/s\u001b[0m eta \u001b[36m0:00:00\u001b[0mm eta \u001b[36m0:00:01\u001b[0m[36m0:00:02\u001b[0m\n",
      "Collecting xgboost\n",
      "  Downloading xgboost-3.0.0-py3-none-macosx_10_15_x86_64.whl (2.2 MB)\n",
      "\u001b[2K     \u001b[38;2;114;156;31m━━━━━━━━━━━━━━━━━━━━━━━━━━━━━━━━━━━━━━━━\u001b[0m \u001b[32m2.2/2.2 MB\u001b[0m \u001b[31m1.3 MB/s\u001b[0m eta \u001b[36m0:00:00\u001b[0mm eta \u001b[36m0:00:01\u001b[0m[36m0:00:01\u001b[0m0m\n",
      "\u001b[?25hRequirement already satisfied: spacy in /Users/bashaar/miniforge3/lib/python3.10/site-packages (3.7.2)\n",
      "Requirement already satisfied: transformers in /Users/bashaar/miniforge3/lib/python3.10/site-packages (4.46.0)\n",
      "Requirement already satisfied: textblob in /Users/bashaar/miniforge3/lib/python3.10/site-packages (0.19.0)\n",
      "Requirement already satisfied: six in /Users/bashaar/miniforge3/lib/python3.10/site-packages (from isodate) (1.16.0)\n",
      "Requirement already satisfied: joblib in /Users/bashaar/miniforge3/lib/python3.10/site-packages (from nltk) (1.4.0)\n",
      "Requirement already satisfied: regex>=2021.8.3 in /Users/bashaar/miniforge3/lib/python3.10/site-packages (from nltk) (2024.7.24)\n",
      "Requirement already satisfied: tqdm in /Users/bashaar/miniforge3/lib/python3.10/site-packages (from nltk) (4.66.6)\n",
      "Requirement already satisfied: click in /Users/bashaar/miniforge3/lib/python3.10/site-packages (from nltk) (8.1.7)\n",
      "Requirement already satisfied: pillow in /Users/bashaar/miniforge3/lib/python3.10/site-packages (from wordcloud) (10.2.0)\n",
      "Requirement already satisfied: requests in /Users/bashaar/miniforge3/lib/python3.10/site-packages (from vaderSentiment) (2.32.3)\n",
      "Requirement already satisfied: threadpoolctl>=2.0.0 in /Users/bashaar/miniforge3/lib/python3.10/site-packages (from scikit-learn) (2.2.0)\n",
      "Requirement already satisfied: scipy>=1.3.2 in /Users/bashaar/miniforge3/lib/python3.10/site-packages (from scikit-learn) (1.13.0)\n",
      "Requirement already satisfied: tzdata>=2022.7 in /Users/bashaar/miniforge3/lib/python3.10/site-packages (from pandas) (2023.3)\n",
      "Requirement already satisfied: pytz>=2020.1 in /Users/bashaar/miniforge3/lib/python3.10/site-packages (from pandas) (2024.1)\n",
      "Requirement already satisfied: python-dateutil>=2.8.2 in /Users/bashaar/miniforge3/lib/python3.10/site-packages (from pandas) (2.8.2)\n",
      "Requirement already satisfied: cycler>=0.10 in /Users/bashaar/miniforge3/lib/python3.10/site-packages (from matplotlib) (0.11.0)\n",
      "Requirement already satisfied: contourpy>=1.0.1 in /Users/bashaar/miniforge3/lib/python3.10/site-packages (from matplotlib) (1.2.0)\n",
      "Requirement already satisfied: pyparsing>=2.3.1 in /Users/bashaar/miniforge3/lib/python3.10/site-packages (from matplotlib) (3.0.9)\n",
      "Requirement already satisfied: packaging>=20.0 in /Users/bashaar/.local/lib/python3.10/site-packages (from matplotlib) (24.0)\n",
      "Requirement already satisfied: kiwisolver>=1.3.1 in /Users/bashaar/miniforge3/lib/python3.10/site-packages (from matplotlib) (1.4.4)\n",
      "Requirement already satisfied: fonttools>=4.22.0 in /Users/bashaar/miniforge3/lib/python3.10/site-packages (from matplotlib) (4.51.0)\n",
      "Requirement already satisfied: smart-open>=1.8.1 in /Users/bashaar/miniforge3/lib/python3.10/site-packages (from gensim) (5.2.1)\n",
      "Requirement already satisfied: preshed<3.1.0,>=3.0.2 in /Users/bashaar/miniforge3/lib/python3.10/site-packages (from spacy) (3.0.6)\n",
      "Requirement already satisfied: typer<0.10.0,>=0.3.0 in /Users/bashaar/miniforge3/lib/python3.10/site-packages (from spacy) (0.9.4)\n",
      "Requirement already satisfied: catalogue<2.1.0,>=2.0.6 in /Users/bashaar/miniforge3/lib/python3.10/site-packages (from spacy) (2.0.10)\n",
      "Requirement already satisfied: pydantic!=1.8,!=1.8.1,<3.0.0,>=1.7.4 in /Users/bashaar/miniforge3/lib/python3.10/site-packages (from spacy) (2.9.2)\n",
      "Requirement already satisfied: srsly<3.0.0,>=2.4.3 in /Users/bashaar/miniforge3/lib/python3.10/site-packages (from spacy) (2.4.8)\n",
      "Requirement already satisfied: cymem<2.1.0,>=2.0.2 in /Users/bashaar/miniforge3/lib/python3.10/site-packages (from spacy) (2.0.6)\n",
      "Requirement already satisfied: weasel<0.4.0,>=0.1.0 in /Users/bashaar/miniforge3/lib/python3.10/site-packages (from spacy) (0.3.4)\n",
      "Requirement already satisfied: spacy-loggers<2.0.0,>=1.0.0 in /Users/bashaar/miniforge3/lib/python3.10/site-packages (from spacy) (1.0.4)\n",
      "Requirement already satisfied: setuptools in /Users/bashaar/miniforge3/lib/python3.10/site-packages (from spacy) (69.5.1)\n",
      "Requirement already satisfied: wasabi<1.2.0,>=0.9.1 in /Users/bashaar/miniforge3/lib/python3.10/site-packages (from spacy) (0.9.1)\n",
      "Requirement already satisfied: murmurhash<1.1.0,>=0.28.0 in /Users/bashaar/miniforge3/lib/python3.10/site-packages (from spacy) (1.0.7)\n",
      "Requirement already satisfied: jinja2 in /Users/bashaar/miniforge3/lib/python3.10/site-packages (from spacy) (3.1.3)\n",
      "Requirement already satisfied: spacy-legacy<3.1.0,>=3.0.11 in /Users/bashaar/miniforge3/lib/python3.10/site-packages (from spacy) (3.0.12)\n",
      "Requirement already satisfied: langcodes<4.0.0,>=3.2.0 in /Users/bashaar/miniforge3/lib/python3.10/site-packages (from spacy) (3.3.0)\n",
      "Requirement already satisfied: thinc<8.3.0,>=8.1.8 in /Users/bashaar/miniforge3/lib/python3.10/site-packages (from spacy) (8.2.2)\n",
      "Requirement already satisfied: tokenizers<0.21,>=0.20 in /Users/bashaar/miniforge3/lib/python3.10/site-packages (from transformers) (0.20.1)\n",
      "Requirement already satisfied: huggingface-hub<1.0,>=0.23.2 in /Users/bashaar/miniforge3/lib/python3.10/site-packages (from transformers) (0.26.1)\n",
      "Requirement already satisfied: filelock in /Users/bashaar/.local/lib/python3.10/site-packages (from transformers) (3.13.1)\n",
      "Requirement already satisfied: pyyaml>=5.1 in /Users/bashaar/miniforge3/lib/python3.10/site-packages (from transformers) (6.0.1)\n",
      "Requirement already satisfied: safetensors>=0.4.1 in /Users/bashaar/miniforge3/lib/python3.10/site-packages (from transformers) (0.4.3)\n",
      "Requirement already satisfied: fsspec>=2023.5.0 in /Users/bashaar/miniforge3/lib/python3.10/site-packages (from huggingface-hub<1.0,>=0.23.2->transformers) (2023.10.0)\n",
      "Requirement already satisfied: typing-extensions>=3.7.4.3 in /Users/bashaar/miniforge3/lib/python3.10/site-packages (from huggingface-hub<1.0,>=0.23.2->transformers) (4.12.2)\n",
      "Requirement already satisfied: pydantic-core==2.23.4 in /Users/bashaar/miniforge3/lib/python3.10/site-packages (from pydantic!=1.8,!=1.8.1,<3.0.0,>=1.7.4->spacy) (2.23.4)\n",
      "Requirement already satisfied: annotated-types>=0.6.0 in /Users/bashaar/.local/lib/python3.10/site-packages (from pydantic!=1.8,!=1.8.1,<3.0.0,>=1.7.4->spacy) (0.6.0)\n",
      "Requirement already satisfied: certifi>=2017.4.17 in /Users/bashaar/miniforge3/lib/python3.10/site-packages (from requests->vaderSentiment) (2025.1.31)\n",
      "Requirement already satisfied: urllib3<3,>=1.21.1 in /Users/bashaar/miniforge3/lib/python3.10/site-packages (from requests->vaderSentiment) (2.2.1)\n",
      "Requirement already satisfied: charset-normalizer<4,>=2 in /Users/bashaar/.local/lib/python3.10/site-packages (from requests->vaderSentiment) (3.3.2)\n",
      "Requirement already satisfied: idna<4,>=2.5 in /Users/bashaar/miniforge3/lib/python3.10/site-packages (from requests->vaderSentiment) (3.6)\n",
      "Requirement already satisfied: blis<0.8.0,>=0.7.8 in /Users/bashaar/miniforge3/lib/python3.10/site-packages (from thinc<8.3.0,>=8.1.8->spacy) (0.7.9)\n",
      "Requirement already satisfied: confection<1.0.0,>=0.0.1 in /Users/bashaar/miniforge3/lib/python3.10/site-packages (from thinc<8.3.0,>=8.1.8->spacy) (0.1.4)\n",
      "Requirement already satisfied: cloudpathlib<0.17.0,>=0.7.0 in /Users/bashaar/miniforge3/lib/python3.10/site-packages (from weasel<0.4.0,>=0.1.0->spacy) (0.16.0)\n",
      "Requirement already satisfied: MarkupSafe>=2.0 in /Users/bashaar/miniforge3/lib/python3.10/site-packages (from jinja2->spacy) (2.1.3)\n",
      "Installing collected packages: xgboost, gensim\n",
      "Successfully installed gensim-4.3.3 xgboost-3.0.0\n",
      "\u001b[33mWARNING: There was an error checking the latest version of pip.\u001b[0m\u001b[33m\n",
      "\u001b[0m"
     ]
    }
   ],
   "source": [
    "!pip install isodate nltk wordcloud vaderSentiment scikit-learn pandas numpy matplotlib seaborn gensim xgboost spacy transformers textblob"
   ]
  },
  {
   "cell_type": "code",
   "execution_count": 3,
   "id": "dcd1f32b-6ea1-42ee-b362-7dd6517a10fa",
   "metadata": {},
   "outputs": [
    {
     "name": "stderr",
     "output_type": "stream",
     "text": [
      "[nltk_data] Downloading package stopwords to\n",
      "[nltk_data]     /Users/bashaar/nltk_data...\n",
      "[nltk_data]   Package stopwords is already up-to-date!\n",
      "[nltk_data] Downloading package punkt to /Users/bashaar/nltk_data...\n",
      "[nltk_data]   Package punkt is already up-to-date!\n"
     ]
    },
    {
     "data": {
      "text/plain": [
       "True"
      ]
     },
     "execution_count": 3,
     "metadata": {},
     "output_type": "execute_result"
    }
   ],
   "source": [
    "# Data Manipulation\n",
    "import pandas as pd\n",
    "import numpy as np\n",
    "from datetime import datetime\n",
    "from dateutil import parser\n",
    "\n",
    "# Text Processing and NLP\n",
    "import nltk\n",
    "from nltk.corpus import stopwords\n",
    "from nltk.tokenize import word_tokenize\n",
    "from sklearn.feature_extraction.text import ENGLISH_STOP_WORDS\n",
    "from vaderSentiment.vaderSentiment import SentimentIntensityAnalyzer\n",
    "from textblob import TextBlob\n",
    "from wordcloud import WordCloud\n",
    "\n",
    "# Machine Learning\n",
    "from sklearn.ensemble import RandomForestRegressor\n",
    "from sklearn.model_selection import train_test_split\n",
    "import xgboost as xgb\n",
    "\n",
    "# Topic Modeling and Advanced NLP (Optional)\n",
    "#from gensim import corpora\n",
    "#from gensim.models import LdaModel\n",
    "#import spacy\n",
    "#from transformers import pipeline\n",
    "#import pyLDAvis.gensim_models as gensimvis\n",
    "\n",
    "# Visualization\n",
    "import matplotlib.pyplot as plt\n",
    "import seaborn as sns\n",
    "sns.set(style=\"darkgrid\", color_codes=True)\n",
    "\n",
    "# Utilities\n",
    "from collections import Counter\n",
    "from tqdm import tqdm\n",
    "\n",
    "# Download NLTK data\n",
    "nltk.download('stopwords')\n",
    "nltk.download('punkt')"
   ]
  },
  {
   "cell_type": "code",
   "execution_count": 6,
   "id": "5311b918-46ec-4882-8631-0e561a7619b9",
   "metadata": {},
   "outputs": [],
   "source": [
    "video_df = pd.read_csv(\"dataFolder/processed/cleanedDataFrame.csv\")"
   ]
  },
  {
   "cell_type": "code",
   "execution_count": 7,
   "id": "d3c97bc9-b906-407f-bc8b-5c8dcd35dfc6",
   "metadata": {},
   "outputs": [],
   "source": [
    "comments_df = pd.read_csv(\"dataFolder/processed/cleanedComments.csv\")"
   ]
  },
  {
   "cell_type": "code",
   "execution_count": null,
   "id": "c96cdbf7-1713-4cb3-b956-30602919c1e7",
   "metadata": {},
   "outputs": [],
   "source": []
  }
 ],
 "metadata": {
  "kernelspec": {
   "display_name": "Python 3 (ipykernel)",
   "language": "python",
   "name": "python3"
  },
  "language_info": {
   "codemirror_mode": {
    "name": "ipython",
    "version": 3
   },
   "file_extension": ".py",
   "mimetype": "text/x-python",
   "name": "python",
   "nbconvert_exporter": "python",
   "pygments_lexer": "ipython3",
   "version": "3.10.14"
  }
 },
 "nbformat": 4,
 "nbformat_minor": 5
}
