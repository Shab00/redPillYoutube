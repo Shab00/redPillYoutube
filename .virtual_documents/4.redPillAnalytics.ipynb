


get_ipython().getoutput("pip install isodate nltk wordcloud")


import pandas as pd
import numpy as np
import time
import isodate
import matplotlib.pyplot as plt
import matplotlib.ticker as ticker
from dateutil import parser
import seaborn as sns
sns.set(style="darkgrid", color_codes=True)


import nltk
from nltk.corpus import stopwords
from nltk.tokenize import word_tokenize
nltk.download('stopwords')
nltk.download('punkt')
from wordcloud import WordCloud


video_df = pd.read_csv("dataFolder/processed/cleanedDataFrame.csv")


df1 = pd.read_csv("dataFolder/raw/commentsBatchOne_df.csv")
df2 = pd.read_csv("dataFolder/raw/commentsBatchTwo_df.csv")


comments_df = pd.concat([df1, df2], ignore_index=True)


video_df


comments_df


video_df.isnull().any()


video_df.publishedAt.sort_values().value_counts()


plt.rcParams['figure.figsize'] = (18, 6)
sns.violinplot(x='channelTitle', y='viewCount', data=video_df, hue='channelTitle', palette='pastel', legend=False)
plt.title('Views per channel', fontsize=14)
plt.show()


fig, ax =plt.subplots(1,2)
sns.scatterplot(data = video_df, x = "commentCount", y = "viewCount", ax=ax[0])
sns.scatterplot(data = video_df, x = "likeCount", y = "viewCount", ax=ax[1])


fig, ax =plt.subplots(1,2)
sns.scatterplot(data = video_df, x = "commentRatio", y = "viewCount", ax=ax[0])
sns.scatterplot(data = video_df, x = "likeRatio", y = "viewCount", ax=ax[1])


sns.histplot(data=video_df[video_df['durationSecs'] < pd.Timedelta(seconds=10000)], x="durationSecs", bins=30) 


fig, ax =plt.subplots(1,2)
sns.scatterplot(data = video_df, x = "durationSecs", y = "commentCount", ax=ax[0])
sns.scatterplot(data = video_df, x = "durationSecs", y = "likeCount", ax=ax[1])


sns.scatterplot(data = video_df, x = "titleLength", y = "viewCount")


stop_words = set(stopwords.words('english'))
video_df['title_no_stopwords'] = video_df['title'].apply(lambda x: [item for item in str(x).split() if item not in stop_words])

all_words = list([a for b in video_df['title_no_stopwords'].tolist() for a in b])
all_words_str = ' '.join(all_words)


def plot_cloud(wordcloud):
    plt.figure(figsize=(30, 20))
    plt.imshow(wordcloud)
    plt.axis("off");

wordcloud = WordCloud(width = 2000, height = 1000, random_state=1, background_color='black',
                      colormap='viridis', collocations=False).generate(all_words_str)
plot_cloud(wordcloud)


sns.scatterplot(data = video_df, x = "tagsCount", y = "viewCount")


day_df = pd.DataFrame(video_df['pushblishDayName'].value_counts())
weekdays = [ 'Monday', 'Tuesday', 'Wednesday', 'Thursday', 'Friday', 'Saturday', 'Sunday']
day_df = day_df.reindex(weekdays)
# Use 'pushblishDayName' as x and 'count' as y
ax = day_df.reset_index().plot.bar(x='pushblishDayName', y='count', rot=0)


stop_words = set(stopwords.words('english'))
comments_df['comments_no_stopwords'] = comments_df['comment'].apply(lambda x: [item for item in str(x).split() if item not in stop_words])

all_words = list([a for b in comments_df['comments_no_stopwords'].tolist() for a in b])
all_words_str = ' '.join(all_words)


wordcloud = WordCloud(width = 2000, height = 1000, random_state=1, background_color='black',
                      colormap='viridis', collocations=False).generate(all_words_str)
plot_cloud(wordcloud)



