








get_ipython().getoutput("pip install isodate nltk wordcloud")





import pandas as pd
import numpy as np
import time
import isodate
import seaborn as sns
import matplotlib.pyplot as plt
import matplotlib.ticker as ticker
from dateutil import parser
from nltk.corpus import stopwords
from nltk.tokenize import word_tokenize
from wordcloud import WordCloud
import nltk
sns.set(style="darkgrid", color_codes=True)
nltk.download('stopwords')
nltk.download('punkt')





video_df = pd.read_csv("dataFolder/processed/cleanedDataFrame.csv")


comments_df = pd.read_csv("dataFolder/processed/cleanedComments.csv")


comments_df











video_df.isnull().any()


video_df.publishedAt.sort_values().value_counts()





plt.rcParams['figure.figsize'] = (18, 6)
sns.violinplot(x='channelTitle', y='viewCount', data=video_df, hue='channelTitle', palette='magma', legend=False)
plt.title('Views per channel', fontsize=14)
plt.show()


fig, ax =plt.subplots(1,2)
sns.scatterplot(data = video_df, x = "commentCount", y = "viewCount", ax=ax[0])
sns.scatterplot(data = video_df, x = "likeCount", y = "viewCount", ax=ax[1])


fig, ax =plt.subplots(1,2)
sns.scatterplot(data = video_df, x = "commentRatio", y = "viewCount", ax=ax[0])
sns.scatterplot(data = video_df, x = "likeRatio", y = "viewCount", ax=ax[1])


# Replace infinite values with NaN
video_df.replace([np.inf, -np.inf], np.nan, inplace=True)

# Drop rows with NaN values (optional)
video_df.dropna(inplace=True)

# Filter videos with duration less than 10,000 seconds
filtered_df = video_df[video_df['durationSecs'] < 10000]

# Plot the histogram
sns.histplot(data=filtered_df, x="durationSecs", bins=30)
plt.title("Distribution of Video Duration (Less than 10,000 Seconds)")
plt.xlabel("Duration (Seconds)")
plt.ylabel("Frequency")
plt.show()


fig, ax =plt.subplots(1,2)
sns.scatterplot(data = video_df, x = "durationSecs", y = "commentCount", ax=ax[0])
sns.scatterplot(data = video_df, x = "durationSecs", y = "likeCount", ax=ax[1])


sns.scatterplot(data = video_df, x = "titleLength", y = "viewCount")


# Set up the figure
plt.figure(figsize=(15, 5))

# Plot histograms
plt.subplot(1, 3, 1)
sns.histplot(video_df['viewCount'], kde=True, bins=30, color='blue')
plt.title('Distribution of View Count')

plt.subplot(1, 3, 2)
sns.histplot(video_df['likeCount'], kde=True, bins=30, color='green')
plt.title('Distribution of Like Count')

plt.subplot(1, 3, 3)
sns.histplot(video_df['commentCount'], kde=True, bins=30, color='orange')
plt.title('Distribution of Comment Count')

plt.tight_layout()
plt.show()


plt.figure(figsize=(15, 5))

plt.subplot(1, 3, 1)
sns.histplot(video_df['view_per_like'], kde=True, bins=30, color='purple')
plt.title('Distribution of Views per Like')

plt.subplot(1, 3, 2)
sns.histplot(video_df['commentRatio'], kde=True, bins=30, color='red')
plt.title('Distribution of Comment Ratio')

plt.subplot(1, 3, 3)
sns.histplot(video_df['likeRatio'], kde=True, bins=30, color='teal')
plt.title('Distribution of Like Ratio')

plt.tight_layout()
plt.show()


plt.figure(figsize=(8, 6))
sns.scatterplot(x='viewCount', y='likeCount', data=video_df, hue='popularity_score', palette='viridis')
plt.title('Views vs. Likes')
plt.xlabel('View Count')
plt.ylabel('Like Count')
plt.show()


plt.figure(figsize=(8, 6))
sns.scatterplot(x='view_per_like', y='commentRatio', data=video_df, hue='popularity_score', palette='viridis')
plt.title('Views per Like vs. Comment Ratio')
plt.xlabel('Views per Like')
plt.ylabel('Comment Ratio')
plt.show()


top_10_videos = video_df.nlargest(10, 'popularity_score')
plt.figure(figsize=(10, 6))
sns.barplot(x='popularity_score', y='video_id', data=top_10_videos, palette='magma')
plt.title('Top 10 Videos by Popularity Score')
plt.xlabel('Popularity Score')
plt.ylabel('Video ID')
plt.show()


channel_metrics = video_df.groupby('channelTitle')[['viewCount', 'likeCount', 'commentCount']].mean().reset_index()

plt.figure(figsize=(12, 6))
sns.barplot(x='viewCount', y='channelTitle', data=channel_metrics, palette='viridis')
plt.title('Average View Count by Channel')
plt.xlabel('Average View Count')
plt.ylabel('Channel Title')
plt.show()


sns.pairplot(video_df[['viewCount', 'likeCount', 'commentCount', 'view_per_like', 'commentRatio', 'likeRatio']])
plt.show()


plt.figure(figsize=(8, 6))
sns.scatterplot(x='durationSecs', y='comment_duration_interaction', data=video_df, hue='popularity_score', palette='viridis')
plt.title('Duration vs. Comment-Duration Interaction')
plt.xlabel('Duration (Seconds)')
plt.ylabel('Comment-Duration Interaction')
plt.show()


stop_words = set(stopwords.words('english'))
video_df['title_no_stopwords'] = video_df['title'].apply(lambda x: [item for item in str(x).split() if item not in stop_words])

all_words = list([a for b in video_df['title_no_stopwords'].tolist() for a in b])
all_words_str = ' '.join(all_words)


def plot_cloud(wordcloud):
    plt.figure(figsize=(30, 20))
    plt.imshow(wordcloud)
    plt.axis("off");

wordcloud = WordCloud(width = 2000, height = 1000, random_state=1, background_color='black',
                      colormap='viridis', collocations=False).generate(all_words_str)
plot_cloud(wordcloud)


sns.scatterplot(data = video_df, x = "tagCount", y = "viewCount")


day_df = pd.DataFrame(video_df['publishDayName'].value_counts())
weekdays = [ 'Monday', 'Tuesday', 'Wednesday', 'Thursday', 'Friday', 'Saturday', 'Sunday']
day_df = day_df.reindex(weekdays)
# Use 'pushblishDayName' as x and 'count' as y
ax = day_df.reset_index().plot.bar(x='publishDayName', y='count', rot=0)


stop_words = set(stopwords.words('english'))
comments_df['comments_no_stopwords'] = comments_df['comment'].apply(lambda x: [item for item in str(x).split() if item not in stop_words])

all_words = list([a for b in comments_df['comments_no_stopwords'].tolist() for a in b])
all_words_str = ' '.join(all_words)


wordcloud = WordCloud(width = 2000, height = 1000, random_state=1, background_color='black',
                      colormap='viridis', collocations=False).generate(all_words_str)
plot_cloud(wordcloud)



