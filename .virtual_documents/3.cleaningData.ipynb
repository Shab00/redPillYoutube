


get_ipython().getoutput("pip install TextBlob")


import pandas as pd
import numpy as np
import isodate
import ast
from isodate import parse_duration
from textblob import TextBlob


video_df = pd.read_csv("dataFolder/raw/redPillAnalytics.csv")


df1 = pd.read_csv("dataFolder/raw/commentsBatchOne_df.csv")
df2 = pd.read_csv("dataFolder/raw/commentsBatchTwo_df.csv")
comments_df = pd.concat([df1, df2], ignore_index=True)


df_filtered = video_df[['video_id', 'channelTitle']]


comments_df = df_filtered.merge(comments_df, on='video_id', how='inner').copy()
comments_df


comments_df.isnull().any()


comments_df.dtypes


comments_df.isnull().sum()
comments_df.dropna()
comments_df.isin([0, np.nan]).sum()


comments_df = comments_df.dropna(subset=['comment'])
print(comments_df.isnull().sum())  # Verify no nulls in 'comment'


video_df.isnull().any()


video_df.dtypes


video_df.isnull().sum()
video_df.dropna()
video_df.isin([0, np.nan]).sum()


video_df.isnull().sum()


video_df['description'] = video_df['description'].fillna("")

# Convert string representations of tags to lists and fill missing values with empty lists
def safe_literal_eval(x):
    try:
        return ast.literal_eval(x) if isinstance(x, str) else []
    except (ValueError, SyntaxError):
        return []

video_df['tags'] = video_df['tags'].apply(safe_literal_eval)

# Fill missing likeCount, favouriteCount, and commentCount with 0
video_df['likeCount'] = video_df['likeCount'].fillna(0)
video_df['favouriteCount'] = video_df['favouriteCount'].fillna(0)
video_df['commentCount'] = video_df['commentCount'].fillna(0)

# Verify no null values remain
print(video_df.isnull().sum())


print(video_df['tags'].head())


numeric_cols = ['viewCount', 'likeCount', 'favouriteCount', 'commentCount']
video_df[numeric_cols] = video_df[numeric_cols].apply(pd.to_numeric, errors = 'coerce', axis = 1)


# Convert publishedAt to datetime
video_df['publishedAt'] = pd.to_datetime(video_df['publishedAt']).dt.tz_localize(None)

# Extract day of the week
video_df['publishDayName'] = video_df['publishedAt'].dt.strftime("%A")

# Convert publishedAt to Unix timestamp
video_df['publishedAt_timestamp'] = video_df['publishedAt'].astype('int64') / 10**9

# Count tags
video_df['tagCount'] = video_df['tags'].apply(lambda x: len(x) if isinstance(x, list) else [])

# Convert duration to seconds
video_df['durationSecs'] = video_df['duration'].apply(lambda x: isodate.parse_duration(x).total_seconds())

video_df['durationSecs'] = video_df['duration'].apply(
    lambda x: isodate.parse_duration(x).total_seconds() if pd.notnull(x) else 0
)

# Calculate title length
video_df['titleLength'] = video_df['title'].apply(lambda x: len(x))


video_df


channel_stats = video_df.groupby('channelTitle').agg({
    'viewCount': 'sum',
    'likeCount': 'sum',
    'commentCount': 'sum'
}).reset_index()


channel_stats['engagementRate'] = (channel_stats['likeCount'] + channel_stats['commentCount']) / channel_stats['viewCount']


channel_stats





excluded_channels = [
    "The Corbett Report (Unofficial)", 
    "The Distributist", 
    "Alhpamales", 
    "Paul Joseph Watson | Перевод"
]

video_df = video_df[~video_df["channelTitle"].isin(excluded_channels)].copy()


comments_df = comments_df[~comments_df["channelTitle"].isin(excluded_channels)].copy()


video_df.groupby('channelTitle')['durationSecs'].mean()


# Calculate view_per_like (handle division by zero)
video_df['view_per_like'] = np.where(
    video_df['likeCount'] != 0,  # Condition: likeCount is not zero
    video_df['viewCount'] / video_df['likeCount'],  # True: Perform division
    0  # False: Set to 0 if likeCount is zero
)

# Calculate comment_duration_interaction
video_df['comment_duration_interaction'] = video_df['commentCount'] * video_df['durationSecs']

# Calculate popularity_score
video_df['popularity_score'] = (
    video_df['viewCount'] + 
    video_df['likeCount'] * 10 + 
    video_df['commentCount'] * 20
)

# Calculate commentRatio (handle division by zero)
video_df['commentRatio'] = np.where(
    video_df['viewCount'] != 0,  # Condition: viewCount is not zero
    video_df['commentCount'] / video_df['viewCount'],  # True: Perform division
    0  # False: Set to 0 if viewCount is zero
)

# Calculate likeRatio (handle division by zero)
video_df['likeRatio'] = np.where(
    video_df['viewCount'] != 0,  # Condition: viewCount is not zero
    video_df['likeCount'] / video_df['viewCount'],  # True: Perform division
    0  # False: Set to 0 if viewCount is zero
)

# Fill any remaining NaN values with 0 (if needed)
video_df = video_df.fillna(0)


video_df['title_sentiment'] = video_df['title'].apply(lambda x: TextBlob(x).sentiment.polarity)


video_df['commentCount'].mean()


video_df[['viewCount', 'commentCount']].corr()


video_df


top_10_views = video_df.nlargest(10, 'viewCount')[['title', 'viewCount', 'channelTitle']]
print(top_10_views)


top_10_likes = video_df.nlargest(10, 'likeCount')[['title', 'likeCount', 'channelTitle']]
print(top_10_likes)


video_df.to_csv("dataFolder/processed/cleanedDataFrame.csv", index=False)


comments_df.to_csv("dataFolder/processed/cleanedComments.csv", index=False)



