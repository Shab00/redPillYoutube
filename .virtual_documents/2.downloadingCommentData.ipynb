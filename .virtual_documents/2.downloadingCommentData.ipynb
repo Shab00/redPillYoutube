








import pandas as pd
from dateutil import parser
from googleapiclient.errors import HttpError
from googleapiclient.discovery import build





api_key = ''


batchOne = ['UC9ctsJZ2aD1nCexfqj342NQ', # BetterBachelor
               'UC53avzpGnh3Kt0tNljlAysw', # alhpa_male_s
               'UCe3lMN6ctO2QVQrqcyyiBzQ', # PrisonPlanetLive
               'UC5sqmi33b7l9kIYa0yASOmQ', # FreshFitMiami
               'UCLIkUEU2t-MR6L6ydFkqAxA', # CorbettUnofficial
            ]

batchTwo = ['UCQTAVxA4dNBCoPdHhX9nnoQ', # CoachCoreyWayne
               'UCdHT7KB1gDAXZYpPW71fn0Q', # TheDistributist
               'UCL_f53ZEJxp8TtlOkHwMV9Q', # JordanBPeterson
               'UC1PkRYud11ogYDqgdqd23Zw', # realbenjaminseda
              ]

youtube = build('youtube', 'v3', developerKey=api_key)





def get_channel_stats(youtube, channel_ids):
   
    all_data = []
    request = youtube.channels().list(
                part='snippet,contentDetails,statistics',
                id=','.join(channel_ids))
    response = request.execute()

    for i in range(len(response['items'])):
        data = dict(channelName = response['items'][i]['snippet']['title'],
                    subscribers = response['items'][i]['statistics']['subscriberCount'],
                    views = response['items'][i]['statistics']['viewCount'],
                    totalVideos = response['items'][i]['statistics']['videoCount'],
                    playlistId = response['items'][i]['contentDetails']['relatedPlaylists']['uploads'])
        all_data.append(data)

    return pd.DataFrame(all_data)

def get_video_ids(youtube, playlist_id):
  
    request = youtube.playlistItems().list(
                part='contentDetails',
                playlistId = playlist_id,
                maxResults = 50)
    response = request.execute()

    video_ids = []

    for i in range(len(response['items'])):
        video_ids.append(response['items'][i]['contentDetails']['videoId'])

    next_page_token = response.get('nextPageToken')
    more_pages = True

    while more_pages:
        if next_page_token is None:
            more_pages = False
        else:
            request = youtube.playlistItems().list(
                        part='contentDetails',
                        playlistId = playlist_id,
                        maxResults = 50,
                        pageToken = next_page_token)
            response = request.execute()

            for i in range(len(response['items'])):
                video_ids.append(response['items'][i]['contentDetails']['videoId'])

            next_page_token = response.get('nextPageToken')

    return video_ids

def get_comments_in_videos(youtube, video_ids):
 
    all_comments = []

    for i in range(0, len(video_ids), 5): # Process video IDs in batches of 5
        batch_video_ids = video_ids[i:i + 5]
        for video_id in batch_video_ids:
            try:
                request = youtube.commentThreads().list(
                    part="snippet",
                    videoId=video_id,
                    textFormat="plainText",
                    maxResults=100 # Only retrieve 100 comments per video for demonstration
                )
                response = request.execute()

                for item in response['items']:
                    comment = item['snippet']['topLevelComment']['snippet']['textDisplay']
                    published_at = item['snippet']['topLevelComment']['snippet']['publishedAt']
                    all_comments.append([video_id, comment, published_at])

            except HttpError as e:
                print(f"An error occurred: {e}")

    comments_df = pd.DataFrame(all_comments, columns=['video_id', 'comment', 'published_at'])
    return comments_df



channel_data_one = get_channel_stats(youtube, batchOne)
channel_data_one


channel_data_Two = get_channel_stats(youtube, batchTwo)
channel_data_Two





comments_df = pd.DataFrame()

for c in channel_data_one['channelName'].unique():
  print("Getting video comments from channel: " + c)
  playlist_id = channel_data_one.loc[channel_data_one['channelName']== c, 'playlistId'].iloc[0]
  video_ids = get_video_ids(youtube, playlist_id)

  comments_data = get_comments_in_videos(youtube, video_ids)

  comments_df = pd.concat([comments_df, comments_data], ignore_index=True)


comments_df = pd.DataFrame()

for c in channel_data_Two['channelName'].unique():
  print("Getting video comments from channel: " + c)
  playlist_id = channel_data_Two.loc[channel_data_Two['channelName']== c, 'playlistId'].iloc[0]
  video_ids = get_video_ids(youtube, playlist_id)

  comments_data = get_comments_in_videos(youtube, video_ids)

  comments_df = pd.concat([comments_df, comments_data], ignore_index=True)


comments_df


comments_df.to_csv('commentsBatchTwo_df.csv', index=False)
