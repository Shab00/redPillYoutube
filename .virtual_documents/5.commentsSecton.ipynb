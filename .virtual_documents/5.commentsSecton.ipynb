





get_ipython().getoutput("pip install isodate nltk wordcloud vaderSentiment scikit-learn pandas numpy matplotlib seaborn gensim xgboost spacy transformers textblob")


# Data Manipulation
import pandas as pd
import numpy as np
from datetime import datetime
from dateutil import parser

# Text Processing and NLP
import nltk
from nltk.corpus import stopwords
from nltk.tokenize import word_tokenize
from sklearn.feature_extraction.text import ENGLISH_STOP_WORDS
from vaderSentiment.vaderSentiment import SentimentIntensityAnalyzer
from textblob import TextBlob
from wordcloud import WordCloud

# Machine Learning
from sklearn.ensemble import RandomForestRegressor
from sklearn.model_selection import train_test_split
import xgboost as xgb

# Topic Modeling and Advanced NLP (Optional)
#from gensim import corpora
#from gensim.models import LdaModel
#import spacy
#from transformers import pipeline
#import pyLDAvis.gensim_models as gensimvis

# Visualization
import matplotlib.pyplot as plt
import seaborn as sns
sns.set(style="darkgrid", color_codes=True)

# Utilities
from collections import Counter
from tqdm import tqdm

# Download NLTK data
nltk.download('stopwords')
nltk.download('punkt')


video_df = pd.read_csv("dataFolder/processed/cleanedDataFrame.csv")


comments_df = pd.read_csv("dataFolder/processed/cleanedComments.csv")



